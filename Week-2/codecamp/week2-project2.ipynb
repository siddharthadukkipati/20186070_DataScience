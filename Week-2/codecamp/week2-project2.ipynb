{
 "cells": [
  {
   "cell_type": "markdown",
   "metadata": {},
   "source": [
    "# CS 109A/STAT 121A/AC 209A/CSCI E-109A: Homework 3\n",
    "# Multiple Linear Regression, Subset Selection, Cross Validation\n",
    "\n",
    "**Harvard University**<br/>\n",
    "**Fall 2017**<br/>\n",
    "**Instructors**: Pavlos Protopapas, Kevin Rader, Rahul Dave, Margo Levine\n",
    "\n",
    "---\n",
    "\n",
    "### INSTRUCTIONS\n",
    "\n",
    "- To submit your assignment follow the instructions given in canvas.\n",
    "- Restart the kernel and run the whole notebook again before you submit. \n",
    "- Do not include your name(s) in the notebook if you are submitting as a group. \n",
    "- If you submit individually and you have worked with someone, please include the name of your [one] partner below. \n",
    "\n",
    "---"
   ]
  },
  {
   "cell_type": "markdown",
   "metadata": {
    "collapsed": true
   },
   "source": [
    "Your partner's name (if you submit separately):\n",
    "\n",
    "Enrollment Status (109A, 121A, 209A, or E109A):"
   ]
  },
  {
   "cell_type": "markdown",
   "metadata": {},
   "source": [
    "Import libraries:"
   ]
  },
  {
   "cell_type": "code",
   "execution_count": 1,
   "metadata": {},
   "outputs": [],
   "source": [
    "import numpy as np\n",
    "import pandas as pd\n",
    "import matplotlib\n",
    "import matplotlib.pyplot as plt\n",
    "from sklearn.metrics import r2_score\n",
    "import statsmodels.api as sm\n",
    "from statsmodels.api import OLS\n",
    "from sklearn.preprocessing import PolynomialFeatures\n",
    "from sklearn.linear_model import Ridge\n",
    "from sklearn.linear_model import Lasso\n",
    "from sklearn.linear_model import RidgeCV\n",
    "from sklearn.linear_model import LassoCV\n",
    "%matplotlib inline"
   ]
  },
  {
   "cell_type": "markdown",
   "metadata": {},
   "source": [
    "# Forecasting Bike Sharing Usage\n",
    "\n",
    "In this homework, we will focus on multiple linear regression and will explore techniques for subset selection. The specific task is to build a regression model for a bike share system that can predict the total number of bike rentals in a given day, based on attributes about the day. Such a demand forecasting model would be useful in planning the number of bikes that need to be available in the system on any given day, and also in monitoring traffic in the city. The data for this problem was collected from the Capital Bikeshare program in Washington D.C. over two years.   \n",
    "\n",
    "The data set is provided in the files `Bikeshare_train.csv` and `Bikeshare_test.csv`, as separate training and test sets. Each row in these files contains 10 attributes describing a day and its weather:\n",
    "- season (1 = spring, 2 = summer, 3 = fall, 4 = winter)\n",
    "- month (1 through 12, with 1 denoting Jan)\n",
    "- holiday (1 = the day is a holiday, 0 = otherwise)\n",
    "- day_of_week (0 through 6, with 0 denoting Sunday)\n",
    "- workingday (1 = the day is neither a holiday or weekend, 0 = otherwise)\n",
    "- weather \n",
    "    - 1: Clear, Few clouds, Partly cloudy, Partly cloudy\n",
    "    - 2: Mist + Cloudy, Mist + Broken clouds, Mist + Few clouds, Mist\n",
    "    - 3: Light Snow, Light Rain + Thunderstorm + Scattered clouds, Light Rain + Scattered clouds\n",
    "    - 4: Heavy Rain + Ice Pallets + Thunderstorm + Mist, Snow + Fog \n",
    "- temp (temperature in Celsius)\n",
    "- atemp (apparent temperature, or relative outdoor temperature, in Celsius)\n",
    "- humidity (relative humidity)\n",
    "- windspeed (wind speed)\n",
    "\n",
    "and the last column 'count' contains the response variable, i.e. total number of bike rentals on the day.\n"
   ]
  },
  {
   "cell_type": "markdown",
   "metadata": {},
   "source": [
    "## Part (a): Data Exploration & Preprocessing\n",
    "\n",
    "As a first step, identify important characteristics of the data using suitable visualizations when necessary. Some of the questions you may ask include (but are not limited to):\n",
    "\n",
    "- How does the number of bike rentals vary between weekdays and weekends? \n",
    "- How about bike rentals on holidays?\n",
    "- What effect does the season have on the bike rentals on a given day?\n",
    "- Is the number of bike rentals lower than average when there is rain or snow?\n",
    "- How does temperature effect bike rentals?\n",
    "- Do any of the numeric attributes have a clear non-linear dependence with number of the bike rentals?\n",
    "\n"
   ]
  },
  {
   "cell_type": "code",
   "execution_count": 2,
   "metadata": {},
   "outputs": [],
   "source": [
    "train = pd.read_csv(\"Bikeshare_train.csv\")\n",
    "test = pd.read_csv(\"Bikeshare_test.csv\")"
   ]
  },
  {
   "cell_type": "code",
   "execution_count": 3,
   "metadata": {},
   "outputs": [
    {
     "data": {
      "text/html": [
       "<div>\n",
       "<style scoped>\n",
       "    .dataframe tbody tr th:only-of-type {\n",
       "        vertical-align: middle;\n",
       "    }\n",
       "\n",
       "    .dataframe tbody tr th {\n",
       "        vertical-align: top;\n",
       "    }\n",
       "\n",
       "    .dataframe thead th {\n",
       "        text-align: right;\n",
       "    }\n",
       "</style>\n",
       "<table border=\"1\" class=\"dataframe\">\n",
       "  <thead>\n",
       "    <tr style=\"text-align: right;\">\n",
       "      <th></th>\n",
       "      <th>Unnamed: 0</th>\n",
       "      <th>season</th>\n",
       "      <th>month</th>\n",
       "      <th>holiday</th>\n",
       "      <th>day_of_week</th>\n",
       "      <th>workingday</th>\n",
       "      <th>weather</th>\n",
       "      <th>temp</th>\n",
       "      <th>atemp</th>\n",
       "      <th>humidity</th>\n",
       "      <th>windspeed</th>\n",
       "      <th>count</th>\n",
       "    </tr>\n",
       "  </thead>\n",
       "  <tbody>\n",
       "    <tr>\n",
       "      <th>count</th>\n",
       "      <td>331.000000</td>\n",
       "      <td>331.000000</td>\n",
       "      <td>331.000000</td>\n",
       "      <td>331.000000</td>\n",
       "      <td>331.000000</td>\n",
       "      <td>331.000000</td>\n",
       "      <td>331.000000</td>\n",
       "      <td>331.000000</td>\n",
       "      <td>331.000000</td>\n",
       "      <td>331.000000</td>\n",
       "      <td>331.000000</td>\n",
       "      <td>331.000000</td>\n",
       "    </tr>\n",
       "    <tr>\n",
       "      <th>mean</th>\n",
       "      <td>165.000000</td>\n",
       "      <td>2.561934</td>\n",
       "      <td>6.640483</td>\n",
       "      <td>0.033233</td>\n",
       "      <td>2.854985</td>\n",
       "      <td>0.670695</td>\n",
       "      <td>1.389728</td>\n",
       "      <td>17.018127</td>\n",
       "      <td>19.543807</td>\n",
       "      <td>63.385776</td>\n",
       "      <td>0.190833</td>\n",
       "      <td>4598.447130</td>\n",
       "    </tr>\n",
       "    <tr>\n",
       "      <th>std</th>\n",
       "      <td>95.695698</td>\n",
       "      <td>1.094726</td>\n",
       "      <td>3.353974</td>\n",
       "      <td>0.179515</td>\n",
       "      <td>2.048680</td>\n",
       "      <td>0.470672</td>\n",
       "      <td>0.546962</td>\n",
       "      <td>11.192515</td>\n",
       "      <td>9.930991</td>\n",
       "      <td>14.334789</td>\n",
       "      <td>0.078240</td>\n",
       "      <td>1935.319338</td>\n",
       "    </tr>\n",
       "    <tr>\n",
       "      <th>min</th>\n",
       "      <td>0.000000</td>\n",
       "      <td>1.000000</td>\n",
       "      <td>1.000000</td>\n",
       "      <td>0.000000</td>\n",
       "      <td>0.000000</td>\n",
       "      <td>0.000000</td>\n",
       "      <td>1.000000</td>\n",
       "      <td>-11.000000</td>\n",
       "      <td>-6.000000</td>\n",
       "      <td>25.416700</td>\n",
       "      <td>0.022392</td>\n",
       "      <td>431.000000</td>\n",
       "    </tr>\n",
       "    <tr>\n",
       "      <th>25%</th>\n",
       "      <td>82.500000</td>\n",
       "      <td>2.000000</td>\n",
       "      <td>4.000000</td>\n",
       "      <td>0.000000</td>\n",
       "      <td>1.000000</td>\n",
       "      <td>0.000000</td>\n",
       "      <td>1.000000</td>\n",
       "      <td>7.500000</td>\n",
       "      <td>11.000000</td>\n",
       "      <td>52.702900</td>\n",
       "      <td>0.133083</td>\n",
       "      <td>3370.000000</td>\n",
       "    </tr>\n",
       "    <tr>\n",
       "      <th>50%</th>\n",
       "      <td>165.000000</td>\n",
       "      <td>3.000000</td>\n",
       "      <td>7.000000</td>\n",
       "      <td>0.000000</td>\n",
       "      <td>3.000000</td>\n",
       "      <td>1.000000</td>\n",
       "      <td>1.000000</td>\n",
       "      <td>18.000000</td>\n",
       "      <td>21.000000</td>\n",
       "      <td>63.291700</td>\n",
       "      <td>0.178479</td>\n",
       "      <td>4648.000000</td>\n",
       "    </tr>\n",
       "    <tr>\n",
       "      <th>75%</th>\n",
       "      <td>247.500000</td>\n",
       "      <td>4.000000</td>\n",
       "      <td>9.500000</td>\n",
       "      <td>0.000000</td>\n",
       "      <td>5.000000</td>\n",
       "      <td>1.000000</td>\n",
       "      <td>2.000000</td>\n",
       "      <td>26.000000</td>\n",
       "      <td>27.000000</td>\n",
       "      <td>73.500000</td>\n",
       "      <td>0.235380</td>\n",
       "      <td>5981.000000</td>\n",
       "    </tr>\n",
       "    <tr>\n",
       "      <th>max</th>\n",
       "      <td>330.000000</td>\n",
       "      <td>4.000000</td>\n",
       "      <td>12.000000</td>\n",
       "      <td>1.000000</td>\n",
       "      <td>6.000000</td>\n",
       "      <td>1.000000</td>\n",
       "      <td>3.000000</td>\n",
       "      <td>38.000000</td>\n",
       "      <td>39.000000</td>\n",
       "      <td>97.250000</td>\n",
       "      <td>0.421642</td>\n",
       "      <td>8714.000000</td>\n",
       "    </tr>\n",
       "  </tbody>\n",
       "</table>\n",
       "</div>"
      ],
      "text/plain": [
       "       Unnamed: 0      season       month     holiday  day_of_week  \\\n",
       "count  331.000000  331.000000  331.000000  331.000000   331.000000   \n",
       "mean   165.000000    2.561934    6.640483    0.033233     2.854985   \n",
       "std     95.695698    1.094726    3.353974    0.179515     2.048680   \n",
       "min      0.000000    1.000000    1.000000    0.000000     0.000000   \n",
       "25%     82.500000    2.000000    4.000000    0.000000     1.000000   \n",
       "50%    165.000000    3.000000    7.000000    0.000000     3.000000   \n",
       "75%    247.500000    4.000000    9.500000    0.000000     5.000000   \n",
       "max    330.000000    4.000000   12.000000    1.000000     6.000000   \n",
       "\n",
       "       workingday     weather        temp       atemp    humidity   windspeed  \\\n",
       "count  331.000000  331.000000  331.000000  331.000000  331.000000  331.000000   \n",
       "mean     0.670695    1.389728   17.018127   19.543807   63.385776    0.190833   \n",
       "std      0.470672    0.546962   11.192515    9.930991   14.334789    0.078240   \n",
       "min      0.000000    1.000000  -11.000000   -6.000000   25.416700    0.022392   \n",
       "25%      0.000000    1.000000    7.500000   11.000000   52.702900    0.133083   \n",
       "50%      1.000000    1.000000   18.000000   21.000000   63.291700    0.178479   \n",
       "75%      1.000000    2.000000   26.000000   27.000000   73.500000    0.235380   \n",
       "max      1.000000    3.000000   38.000000   39.000000   97.250000    0.421642   \n",
       "\n",
       "             count  \n",
       "count   331.000000  \n",
       "mean   4598.447130  \n",
       "std    1935.319338  \n",
       "min     431.000000  \n",
       "25%    3370.000000  \n",
       "50%    4648.000000  \n",
       "75%    5981.000000  \n",
       "max    8714.000000  "
      ]
     },
     "execution_count": 3,
     "metadata": {},
     "output_type": "execute_result"
    }
   ],
   "source": [
    "train.describe()"
   ]
  },
  {
   "cell_type": "code",
   "execution_count": 4,
   "metadata": {},
   "outputs": [
    {
     "data": {
      "text/html": [
       "<div>\n",
       "<style scoped>\n",
       "    .dataframe tbody tr th:only-of-type {\n",
       "        vertical-align: middle;\n",
       "    }\n",
       "\n",
       "    .dataframe tbody tr th {\n",
       "        vertical-align: top;\n",
       "    }\n",
       "\n",
       "    .dataframe thead th {\n",
       "        text-align: right;\n",
       "    }\n",
       "</style>\n",
       "<table border=\"1\" class=\"dataframe\">\n",
       "  <thead>\n",
       "    <tr style=\"text-align: right;\">\n",
       "      <th></th>\n",
       "      <th>Unnamed: 0</th>\n",
       "      <th>season</th>\n",
       "      <th>month</th>\n",
       "      <th>holiday</th>\n",
       "      <th>day_of_week</th>\n",
       "      <th>workingday</th>\n",
       "      <th>weather</th>\n",
       "      <th>temp</th>\n",
       "      <th>atemp</th>\n",
       "      <th>humidity</th>\n",
       "      <th>windspeed</th>\n",
       "      <th>count</th>\n",
       "    </tr>\n",
       "  </thead>\n",
       "  <tbody>\n",
       "    <tr>\n",
       "      <th>count</th>\n",
       "      <td>400.000000</td>\n",
       "      <td>400.000000</td>\n",
       "      <td>400.000000</td>\n",
       "      <td>400.00000</td>\n",
       "      <td>400.000000</td>\n",
       "      <td>400.000000</td>\n",
       "      <td>400.000000</td>\n",
       "      <td>400.000000</td>\n",
       "      <td>400.000000</td>\n",
       "      <td>400.000000</td>\n",
       "      <td>400.000000</td>\n",
       "      <td>400.00000</td>\n",
       "    </tr>\n",
       "    <tr>\n",
       "      <th>mean</th>\n",
       "      <td>199.500000</td>\n",
       "      <td>2.442500</td>\n",
       "      <td>6.420000</td>\n",
       "      <td>0.02500</td>\n",
       "      <td>3.115000</td>\n",
       "      <td>0.695000</td>\n",
       "      <td>1.400000</td>\n",
       "      <td>15.577500</td>\n",
       "      <td>18.340000</td>\n",
       "      <td>62.295911</td>\n",
       "      <td>0.190199</td>\n",
       "      <td>4514.21250</td>\n",
       "    </tr>\n",
       "    <tr>\n",
       "      <th>std</th>\n",
       "      <td>115.614301</td>\n",
       "      <td>1.122427</td>\n",
       "      <td>3.531966</td>\n",
       "      <td>0.15632</td>\n",
       "      <td>1.962499</td>\n",
       "      <td>0.460984</td>\n",
       "      <td>0.543819</td>\n",
       "      <td>11.777979</td>\n",
       "      <td>10.538598</td>\n",
       "      <td>14.165383</td>\n",
       "      <td>0.076975</td>\n",
       "      <td>2092.60635</td>\n",
       "    </tr>\n",
       "    <tr>\n",
       "      <th>min</th>\n",
       "      <td>0.000000</td>\n",
       "      <td>1.000000</td>\n",
       "      <td>1.000000</td>\n",
       "      <td>0.00000</td>\n",
       "      <td>0.000000</td>\n",
       "      <td>0.000000</td>\n",
       "      <td>1.000000</td>\n",
       "      <td>-9.000000</td>\n",
       "      <td>-4.000000</td>\n",
       "      <td>0.000000</td>\n",
       "      <td>0.045404</td>\n",
       "      <td>22.00000</td>\n",
       "    </tr>\n",
       "    <tr>\n",
       "      <th>25%</th>\n",
       "      <td>99.750000</td>\n",
       "      <td>1.000000</td>\n",
       "      <td>3.000000</td>\n",
       "      <td>0.00000</td>\n",
       "      <td>2.000000</td>\n",
       "      <td>0.000000</td>\n",
       "      <td>1.000000</td>\n",
       "      <td>5.000000</td>\n",
       "      <td>9.000000</td>\n",
       "      <td>50.774450</td>\n",
       "      <td>0.134957</td>\n",
       "      <td>2875.25000</td>\n",
       "    </tr>\n",
       "    <tr>\n",
       "      <th>50%</th>\n",
       "      <td>199.500000</td>\n",
       "      <td>2.000000</td>\n",
       "      <td>6.000000</td>\n",
       "      <td>0.00000</td>\n",
       "      <td>3.000000</td>\n",
       "      <td>1.000000</td>\n",
       "      <td>1.000000</td>\n",
       "      <td>15.000000</td>\n",
       "      <td>18.000000</td>\n",
       "      <td>62.062500</td>\n",
       "      <td>0.183144</td>\n",
       "      <td>4516.00000</td>\n",
       "    </tr>\n",
       "    <tr>\n",
       "      <th>75%</th>\n",
       "      <td>299.250000</td>\n",
       "      <td>3.000000</td>\n",
       "      <td>10.000000</td>\n",
       "      <td>0.00000</td>\n",
       "      <td>5.000000</td>\n",
       "      <td>1.000000</td>\n",
       "      <td>2.000000</td>\n",
       "      <td>26.000000</td>\n",
       "      <td>28.000000</td>\n",
       "      <td>72.927100</td>\n",
       "      <td>0.232680</td>\n",
       "      <td>6174.75000</td>\n",
       "    </tr>\n",
       "    <tr>\n",
       "      <th>max</th>\n",
       "      <td>399.000000</td>\n",
       "      <td>4.000000</td>\n",
       "      <td>12.000000</td>\n",
       "      <td>1.00000</td>\n",
       "      <td>6.000000</td>\n",
       "      <td>1.000000</td>\n",
       "      <td>3.000000</td>\n",
       "      <td>39.000000</td>\n",
       "      <td>42.000000</td>\n",
       "      <td>94.958300</td>\n",
       "      <td>0.507463</td>\n",
       "      <td>10045.00000</td>\n",
       "    </tr>\n",
       "  </tbody>\n",
       "</table>\n",
       "</div>"
      ],
      "text/plain": [
       "       Unnamed: 0      season       month    holiday  day_of_week  workingday  \\\n",
       "count  400.000000  400.000000  400.000000  400.00000   400.000000  400.000000   \n",
       "mean   199.500000    2.442500    6.420000    0.02500     3.115000    0.695000   \n",
       "std    115.614301    1.122427    3.531966    0.15632     1.962499    0.460984   \n",
       "min      0.000000    1.000000    1.000000    0.00000     0.000000    0.000000   \n",
       "25%     99.750000    1.000000    3.000000    0.00000     2.000000    0.000000   \n",
       "50%    199.500000    2.000000    6.000000    0.00000     3.000000    1.000000   \n",
       "75%    299.250000    3.000000   10.000000    0.00000     5.000000    1.000000   \n",
       "max    399.000000    4.000000   12.000000    1.00000     6.000000    1.000000   \n",
       "\n",
       "          weather        temp       atemp    humidity   windspeed        count  \n",
       "count  400.000000  400.000000  400.000000  400.000000  400.000000    400.00000  \n",
       "mean     1.400000   15.577500   18.340000   62.295911    0.190199   4514.21250  \n",
       "std      0.543819   11.777979   10.538598   14.165383    0.076975   2092.60635  \n",
       "min      1.000000   -9.000000   -4.000000    0.000000    0.045404     22.00000  \n",
       "25%      1.000000    5.000000    9.000000   50.774450    0.134957   2875.25000  \n",
       "50%      1.000000   15.000000   18.000000   62.062500    0.183144   4516.00000  \n",
       "75%      2.000000   26.000000   28.000000   72.927100    0.232680   6174.75000  \n",
       "max      3.000000   39.000000   42.000000   94.958300    0.507463  10045.00000  "
      ]
     },
     "execution_count": 4,
     "metadata": {},
     "output_type": "execute_result"
    }
   ],
   "source": [
    "test.describe()"
   ]
  },
  {
   "cell_type": "markdown",
   "metadata": {},
   "source": [
    "your answers here"
   ]
  },
  {
   "cell_type": "markdown",
   "metadata": {},
   "source": [
    "We next require you to pre-process the categorical and numerical attributes in the data set:\n",
    "\n",
    "- Notice that this data set contains categorical attributes with two or more categories. **Why can't they be directly used as predictors?** Convert these categorical attributes into multiple binary attributes using one-hot encoding: in the place of every categorical attribute $x_j$ that has categories $1, \\ldots, K_j$, introduce $K_j-1$ binary predictors $x_{j1}, \\ldots, x_{j,K_j-1}$ where $x_{jk}$ is 1 whenever $x_j = k$ and 0 otherwise. \n",
    "** Why is it okay to not have a binary column for the $K_j$-th category? **\n",
    "\n",
    "- Since the attributes are in different scales, it is a good practice to standardize the continuous predictors, i.e. to scale each continuous predictor to have zero mean and a standard deviation of 1. This can be done by applying the following transform to each continuous-valued predictor $j$:\n",
    "$\\hat{x}_{ij} = (x_{ij} - \\bar{x}_j) / s_j$, where $\\bar{x}_j$ and $s_j$ are the sample mean and sample standard deviation (SD) of predictor $j$ in the training set. We emphasize that the mean and SD values used for standardization must be estimated using only the training set observations, while the transform is applied to both the training and test sets. \n",
    "** Why shouldn't we include the test set observations in computing the mean and SD? **\n",
    "\n",
    "- Provide a table of the summary statistics of the new attributes (`pd.describe()' function will help).\n",
    "\n",
    "*Hint:* You may use the `pd.get_dummies` function to convert a categorical attribute in a data frame to one-hot encoding. This function creates $K$ binary columns for an attribute with $K$ categories. We suggest that you delete the last (or first) binary column generated by this function.\n",
    "\n",
    "**Note:** We shall use the term \"attribute\" to refer to a categorical column in the data set, and the term \"predictor\" to refer to the individual binary columns resulting out of one-hot encoding."
   ]
  },
  {
   "cell_type": "code",
   "execution_count": 5,
   "metadata": {},
   "outputs": [],
   "source": [
    "# your code here\n",
    "train.rename(index=str, columns={\"count\": \"rentals\"}, inplace=True) \n",
    "test.rename(index=str, columns={\"count\": \"rentals\"}, inplace=True)"
   ]
  },
  {
   "cell_type": "code",
   "execution_count": 6,
   "metadata": {},
   "outputs": [],
   "source": [
    "train.head(5)\n",
    "pd.set_option('display.max_rows', 500)"
   ]
  },
  {
   "cell_type": "code",
   "execution_count": 7,
   "metadata": {},
   "outputs": [
    {
     "data": {
      "text/plain": [
       "<matplotlib.axes._subplots.AxesSubplot at 0x20a6f1e81d0>"
      ]
     },
     "execution_count": 7,
     "metadata": {},
     "output_type": "execute_result"
    },
    {
     "data": {
      "image/png": "[encoded data removed]",
      "text/plain": [
       "<Figure size 432x288 with 1 Axes>"
      ]
     },
     "metadata": {
      "needs_background": "light"
     },
     "output_type": "display_data"
    }
   ],
   "source": [
    "import seaborn as sns\n",
    "%matplotlib inline\n",
    "sns.countplot(x='workingday',data=train)"
   ]
  },
  {
   "cell_type": "code",
   "execution_count": 9,
   "metadata": {
    "scrolled": true
   },
   "outputs": [
    {
     "data": {
      "text/plain": [
       "<matplotlib.axes._subplots.AxesSubplot at 0x20a7132fc50>"
      ]
     },
     "execution_count": 9,
     "metadata": {},
     "output_type": "execute_result"
    },
    {
     "data": {
      "image/png": "[encoded data removed]",
      "text/plain": [
       "<Figure size 432x288 with 1 Axes>"
      ]
     },
     "metadata": {
      "needs_background": "light"
     },
     "output_type": "display_data"
    }
   ],
   "source": [
    "sns.countplot(x='windspeed',data=train)"
   ]
  },
  {
   "cell_type": "code",
   "execution_count": 10,
   "metadata": {},
   "outputs": [
    {
     "data": {
      "text/plain": [
       "<matplotlib.axes._subplots.AxesSubplot at 0x20a71a62cc0>"
      ]
     },
     "execution_count": 10,
     "metadata": {},
     "output_type": "execute_result"
    },
    {
     "data": {
      "image/png": "[encoded data removed]",
      "text/plain": [
       "<Figure size 432x288 with 1 Axes>"
      ]
     },
     "metadata": {
      "needs_background": "light"
     },
     "output_type": "display_data"
    }
   ],
   "source": [
    "sns.countplot(x='day_of_week',data=train)"
   ]
  },
  {
   "cell_type": "code",
   "execution_count": 15,
   "metadata": {},
   "outputs": [
    {
     "data": {
      "image/png": "[encoded data removed]",
      "text/plain": [
       "<Figure size 432x288 with 1 Axes>"
      ]
     },
     "metadata": {
      "needs_background": "light"
     },
     "output_type": "display_data"
    }
   ],
   "source": [
    "#for getting the average rentals on working day and non-working data\n",
    "avg = [0, 0, 0, 0]\n",
    "objects = ('1', '2', '3', '4')\n",
    "y_pos = np.arange(len(objects))\n",
    "#check for the non-working day and sum of bike rentals on working day same for working day\n",
    "day2 = [train.loc[train['season'] == 1, 'rentals'].sum()]\n",
    "day2.append(train.loc[train['season'] == 2,'rentals'].sum())\n",
    "day2.append(train.loc[train['season'] == 3,'rentals'].sum())\n",
    "day2.append(train.loc[train['season'] == 4,'rentals'].sum())\n",
    "freq2 = train['season'].value_counts()\n",
    "avg[0] = day2[0]/freq2.iat[1]\n",
    "avg[1] = day2[1]/freq2.iat[3]\n",
    "avg[2] = day2[2]/freq2.iat[0]\n",
    "avg[3] = day2[3]/freq2.iat[2]\n",
    "\n",
    "\n",
    "plt.bar(y_pos, avg, align='center', alpha=0.5) \n",
    "plt.xticks(y_pos, ['Spring', 'Summer', 'Fall', 'Winter']) \n",
    "plt.ylabel('Rental Counts') \n",
    "plt.title('Relative Rentals by season') \n",
    "plt.show()"
   ]
  },
  {
   "cell_type": "code",
   "execution_count": 12,
   "metadata": {},
   "outputs": [
    {
     "data": {
      "image/png": "[encoded data removed]",
      "text/plain": [
       "<Figure size 432x288 with 1 Axes>"
      ]
     },
     "metadata": {
      "needs_background": "light"
     },
     "output_type": "display_data"
    }
   ],
   "source": [
    "#for getting the average rentals on working day and non-working data\n",
    "avg1 = [0, 0]\n",
    "objects = ('0', '1')\n",
    "y_pos = np.arange(len(objects))\n",
    "\n",
    "#check for the non-working day and sum of bike rentals on working day same for working day\n",
    "\n",
    "day1 = [train.loc[train['holiday'] == 0, 'rentals'].sum()]\n",
    "day1.append(train.loc[train['holiday'] == 1,'rentals'].sum())\n",
    "\n",
    "\n",
    "# number_of_entries = list(pd.value_counts(train['workingday'].values, sort=False))\n",
    "# number_of_entries = list(reversed(number_of_entries))\n",
    "\n",
    "freq1 = train['holiday'].value_counts()\n",
    "\n",
    "# print(number_of_entries)\n",
    "\n",
    "avg1[0] = day1[0]/freq1[0]\n",
    "avg1[1] = day1[1]/freq1[1]\n",
    "plt.bar(y_pos, avg1, align='center', alpha=0.5) \n",
    "plt.xticks(y_pos, ['Non-holiday', 'holiday']) \n",
    "plt.ylabel('Rental Counts') \n",
    "plt.title('Relative Rentals') \n",
    "plt.show()"
   ]
  },
  {
   "cell_type": "code",
   "execution_count": 16,
   "metadata": {},
   "outputs": [
    {
     "name": "stdout",
     "output_type": "stream",
     "text": [
      "[109, 222]\n"
     ]
    },
    {
     "data": {
      "image/png": "[encoded data removed]",
      "text/plain": [
       "<Figure size 432x288 with 1 Axes>"
      ]
     },
     "metadata": {
      "needs_background": "light"
     },
     "output_type": "display_data"
    }
   ],
   "source": [
    "avg2 = [0, 0]\n",
    "objects = ('0', '1')\n",
    "y_pos = np.arange(len(objects))\n",
    "day = [train.loc[train['workingday'] == 0, 'rentals'].sum()]\n",
    "day.append(train.loc[train['workingday'] == 1,'rentals'].sum())\n",
    "number_of_entries = list(pd.value_counts(train['workingday'].values, sort=False))\n",
    "number_of_entries = list(reversed(number_of_entries))\n",
    "freq = train['workingday'].value_counts()\n",
    "print(number_of_entries)\n",
    "avg2[0] = day[0]/freq[0]\n",
    "avg2[1] = day[1]/freq[1]\n",
    "plt.bar(y_pos, avg2, align='center', alpha=0.5) \n",
    "plt.xticks(y_pos, ['Non-working Day', 'Working Day']) \n",
    "plt.ylabel('Rental Counts') \n",
    "plt.title('Relative Rentals Weekend vs. Weekday') \n",
    "plt.show()"
   ]
  },
  {
   "cell_type": "markdown",
   "metadata": {},
   "source": [
    "## Part (b): Multiple Linear Regression\n",
    "\n",
    "We are now ready to fit a linear regression model and analyze its coefficients and residuals.\n",
    "\n",
    "- Fit a multiple linear regression model to the training set, and report its $R^2$ score on the test set.\n",
    "- *Statistical significance*: Using a t-test, find out which of estimated coefficients are statistically significant at a significance level of 5% (p-value<0.05). Based on the results of the test, answer the following questions:\n",
    "    - Which among the predictors have a positive correlation with the number of bike rentals? \n",
    "    - Does the day of a week have a relationship with bike rentals? \n",
    "    - Does the month influence the bike rentals? \n",
    "    - What effect does a holiday have on  bike rentals? \n",
    "    - Is there a difference in the coefficients assigned to `temp` and `atemp`? Give an explanation for your observation.\n",
    "- *Residual plot:* Make a plot of residuals of the fitted model ${e} = y - \\hat{y}$ as a function of the predicted value $\\hat{y}$. Note that this is different from the residual plot for simple linear regression. Draw a horizontal line denoting the zero residual value on the Y-axis. Does the plot reveal a non-linear relationship between the predictors and response? What does the plot convey about the variance of the error terms?\n"
   ]
  },
  {
   "cell_type": "code",
   "execution_count": 17,
   "metadata": {},
   "outputs": [
    {
     "name": "stderr",
     "output_type": "stream",
     "text": [
      "c:\\users\\hp\\appdata\\local\\programs\\python\\python37\\lib\\site-packages\\numpy\\core\\fromnumeric.py:2389: FutureWarning: Method .ptp is deprecated and will be removed in a future version. Use numpy.ptp instead.\n",
      "  return ptp(axis=axis, out=out, **kwargs)\n"
     ]
    }
   ],
   "source": [
    "# your code here\n",
    "Xtrain, ytrain = train.drop('rentals', axis =1), train['rentals'].values.reshape(-1,1)\n",
    "Xtest, ytest = test.drop('rentals', axis =1), test['rentals'].values.reshape(-1, 1)\n",
    "\n",
    "#building a multiple linear regression we have to fit some constant and fit the model\n",
    "multiple_reg = sm.OLS(ytrain, sm.add_constant(Xtrain)).fit()\n",
    "\n",
    "ytest_pred = multiple_reg.predict(sm.add_constant(Xtest))\n",
    "ytrain_pred = multiple_reg.predict(sm.add_constant(Xtrain))"
   ]
  },
  {
   "cell_type": "code",
   "execution_count": 18,
   "metadata": {},
   "outputs": [
    {
     "name": "stdout",
     "output_type": "stream",
     "text": [
      "                            OLS Regression Results                            \n",
      "==============================================================================\n",
      "Dep. Variable:                      y   R-squared:                       0.502\n",
      "Model:                            OLS   Adj. R-squared:                  0.485\n",
      "Method:                 Least Squares   F-statistic:                     29.22\n",
      "Date:                Sun, 11 Aug 2019   Prob (F-statistic):           4.13e-42\n",
      "Time:                        11:45:29   Log-Likelihood:                -2858.8\n",
      "No. Observations:                 331   AIC:                             5742.\n",
      "Df Residuals:                     319   BIC:                             5787.\n",
      "Df Model:                          11                                         \n",
      "Covariance Type:            nonrobust                                         \n",
      "===============================================================================\n",
      "                  coef    std err          t      P>|t|      [0.025      0.975]\n",
      "-------------------------------------------------------------------------------\n",
      "const        4309.1335    582.240      7.401      0.000    3163.619    5454.649\n",
      "Unnamed: 0      0.2049      0.805      0.255      0.799      -1.379       1.788\n",
      "season        469.4230    138.269      3.395      0.001     197.389     741.457\n",
      "month         -28.4239     44.038     -0.645      0.519    -115.065      58.218\n",
      "holiday      -320.7963    448.744     -0.715      0.475   -1203.667     562.075\n",
      "day_of_week    85.3508     38.023      2.245      0.025      10.542     160.159\n",
      "workingday    132.0354    170.619      0.774      0.440    -203.646     467.717\n",
      "weather      -415.4527    199.223     -2.085      0.038    -807.409     -23.496\n",
      "temp           35.6004     38.736      0.919      0.359     -40.611     111.812\n",
      "atemp          62.3174     43.893      1.420      0.157     -24.038     148.673\n",
      "humidity      -28.1259      7.820     -3.597      0.000     -43.511     -12.740\n",
      "windspeed   -2848.4230   1068.062     -2.667      0.008   -4949.759    -747.087\n",
      "==============================================================================\n",
      "Omnibus:                       20.240   Durbin-Watson:                   1.956\n",
      "Prob(Omnibus):                  0.000   Jarque-Bera (JB):                8.057\n",
      "Skew:                           0.058   Prob(JB):                       0.0178\n",
      "Kurtosis:                       2.244   Cond. No.                     2.98e+03\n",
      "==============================================================================\n",
      "\n",
      "Warnings:\n",
      "[1] Standard Errors assume that the covariance matrix of the errors is correctly specified.\n",
      "[2] The condition number is large, 2.98e+03. This might indicate that there are\n",
      "strong multicollinearity or other numerical problems.\n"
     ]
    }
   ],
   "source": [
    "print(multiple_reg.summary())"
   ]
  },
  {
   "cell_type": "markdown",
   "metadata": {},
   "source": [
    "your answers here"
   ]
  },
  {
   "cell_type": "markdown",
   "metadata": {},
   "source": [
    "## Part (c): Checking Collinearity\n",
    "\n",
    "Does the data suffer from multi-collinearity? To answer this question, let us first analyze the correlation matrix for the data. Compute the (Pearson product-moment) correlation matrix for the predictor variables in the training set, and visualize the matrix using a heatmap. For categorical attributes, you should use each binary predictor resulting from one-hot encoding to compute their correlations.  Are there predictors that fall into natural groups based on the correlation values? \n",
    "\n",
    "*Hint:* You may use the `np.corrcoef` function to compute the correlation matrix for a data set (do not forget to transpose the data matrix). You may use `plt.pcolor` function to visualize the correlation matrix."
   ]
  },
  {
   "cell_type": "code",
   "execution_count": 19,
   "metadata": {},
   "outputs": [
    {
     "data": {
      "text/plain": [
       "<matplotlib.axes._subplots.AxesSubplot at 0x20a71c02e48>"
      ]
     },
     "execution_count": 19,
     "metadata": {},
     "output_type": "execute_result"
    },
    {
     "data": {
      "image/png": "[encoded data removed]",
      "text/plain": [
       "<Figure size 720x720 with 2 Axes>"
      ]
     },
     "metadata": {
      "needs_background": "light"
     },
     "output_type": "display_data"
    }
   ],
   "source": [
    "# your code here\n",
    "correlation = train.drop('rentals', axis = 1).corr()\n",
    "\n",
    "plt.figure(figsize=(10,10))\n",
    "sns.heatmap(correlation)"
   ]
  },
  {
   "cell_type": "markdown",
   "metadata": {},
   "source": [
    "your answers here"
   ]
  },
  {
   "cell_type": "markdown",
   "metadata": {},
   "source": [
    "## Part (d): Subset Selection\n",
    "\n",
    "Apply either one of the following subset selection methods discussed in class to choose a minimal subset of predictors that are related to the response variable:\n",
    "- Step-wise forward selection\n",
    "- Step-wise backward selection\n",
    "\n",
    "We require you to implement both these methods *from scratch*. You may use the Bayesian Information Criterion (BIC) to choose the subset size in each method. Do these methods eliminate one or more of the redundant predictors (if any) identified in Part (c)? In each case, fit linear regression models using the identified subset of predictors to the training set. How do the test $R^2$ scores for the fitted models compare with the model fitted in Part (b) using all predictors?\n",
    "\n",
    "\n"
   ]
  },
  {
   "cell_type": "code",
   "execution_count": 20,
   "metadata": {},
   "outputs": [
    {
     "name": "stdout",
     "output_type": "stream",
     "text": [
      "const          1.209460e-12\n",
      "humidity       3.735034e-04\n",
      "season         7.729725e-04\n",
      "windspeed      8.045734e-03\n",
      "day_of_week    2.547329e-02\n",
      "weather        3.783049e-02\n",
      "atemp          1.566502e-01\n",
      "temp           3.587683e-01\n",
      "workingday     4.395865e-01\n",
      "holiday        4.752083e-01\n",
      "month          5.191054e-01\n",
      "Unnamed: 0     7.991971e-01\n",
      "Name: P>|t|, dtype: float64\n"
     ]
    }
   ],
   "source": [
    "# your code here\n",
    "p_values = multiple_reg.summary2().tables[1]['P>|t|']\n",
    "p_values= p_values.sort_values()\n",
    "print(p_values)"
   ]
  },
  {
   "cell_type": "markdown",
   "metadata": {},
   "source": [
    "your answers here"
   ]
  },
  {
   "cell_type": "markdown",
   "metadata": {},
   "source": [
    "## Part (e): Cross Validation\n",
    "\n",
    "- Perform a 10-fold cross-validation procedure to select between the 3 competing models you have so far: the model with the best BIC from Step-wise forward selection, the model with the best BIC from Step-wise backward selection (if it is different), and the model with all possible predictors.  Report the average $R^2$ across all 10 validation sets for each model and compare the results.  Why do you think this is the case?\n",
    "- Evaluate each of the 3 models on the provided left out test set by calculating $R^2$.  Do the results agree with the cross-validation?  Why or why not?"
   ]
  },
  {
   "cell_type": "code",
   "execution_count": 21,
   "metadata": {},
   "outputs": [
    {
     "data": {
      "text/html": [
       "<div>\n",
       "<style scoped>\n",
       "    .dataframe tbody tr th:only-of-type {\n",
       "        vertical-align: middle;\n",
       "    }\n",
       "\n",
       "    .dataframe tbody tr th {\n",
       "        vertical-align: top;\n",
       "    }\n",
       "\n",
       "    .dataframe thead th {\n",
       "        text-align: right;\n",
       "    }\n",
       "</style>\n",
       "<table border=\"1\" class=\"dataframe\">\n",
       "  <thead>\n",
       "    <tr style=\"text-align: right;\">\n",
       "      <th></th>\n",
       "      <th>Unnamed: 0</th>\n",
       "      <th>season</th>\n",
       "      <th>month</th>\n",
       "      <th>holiday</th>\n",
       "      <th>day_of_week</th>\n",
       "      <th>workingday</th>\n",
       "      <th>weather</th>\n",
       "      <th>temp</th>\n",
       "      <th>atemp</th>\n",
       "      <th>humidity</th>\n",
       "      <th>windspeed</th>\n",
       "      <th>rentals</th>\n",
       "    </tr>\n",
       "  </thead>\n",
       "  <tbody>\n",
       "    <tr>\n",
       "      <th>0</th>\n",
       "      <td>0</td>\n",
       "      <td>2.0</td>\n",
       "      <td>5.0</td>\n",
       "      <td>0.0</td>\n",
       "      <td>2.0</td>\n",
       "      <td>1.0</td>\n",
       "      <td>2.0</td>\n",
       "      <td>24.0</td>\n",
       "      <td>26.0</td>\n",
       "      <td>76.5833</td>\n",
       "      <td>0.118167</td>\n",
       "      <td>6073.0</td>\n",
       "    </tr>\n",
       "    <tr>\n",
       "      <th>1</th>\n",
       "      <td>1</td>\n",
       "      <td>4.0</td>\n",
       "      <td>12.0</td>\n",
       "      <td>0.0</td>\n",
       "      <td>2.0</td>\n",
       "      <td>1.0</td>\n",
       "      <td>1.0</td>\n",
       "      <td>15.0</td>\n",
       "      <td>19.0</td>\n",
       "      <td>73.3750</td>\n",
       "      <td>0.174129</td>\n",
       "      <td>6606.0</td>\n",
       "    </tr>\n",
       "    <tr>\n",
       "      <th>2</th>\n",
       "      <td>2</td>\n",
       "      <td>2.0</td>\n",
       "      <td>6.0</td>\n",
       "      <td>0.0</td>\n",
       "      <td>4.0</td>\n",
       "      <td>1.0</td>\n",
       "      <td>1.0</td>\n",
       "      <td>26.0</td>\n",
       "      <td>28.0</td>\n",
       "      <td>56.9583</td>\n",
       "      <td>0.253733</td>\n",
       "      <td>7363.0</td>\n",
       "    </tr>\n",
       "    <tr>\n",
       "      <th>3</th>\n",
       "      <td>3</td>\n",
       "      <td>4.0</td>\n",
       "      <td>12.0</td>\n",
       "      <td>0.0</td>\n",
       "      <td>0.0</td>\n",
       "      <td>0.0</td>\n",
       "      <td>1.0</td>\n",
       "      <td>0.0</td>\n",
       "      <td>4.0</td>\n",
       "      <td>58.6250</td>\n",
       "      <td>0.169779</td>\n",
       "      <td>2431.0</td>\n",
       "    </tr>\n",
       "    <tr>\n",
       "      <th>4</th>\n",
       "      <td>4</td>\n",
       "      <td>3.0</td>\n",
       "      <td>9.0</td>\n",
       "      <td>0.0</td>\n",
       "      <td>3.0</td>\n",
       "      <td>1.0</td>\n",
       "      <td>3.0</td>\n",
       "      <td>23.0</td>\n",
       "      <td>23.0</td>\n",
       "      <td>91.7083</td>\n",
       "      <td>0.097021</td>\n",
       "      <td>1996.0</td>\n",
       "    </tr>\n",
       "  </tbody>\n",
       "</table>\n",
       "</div>"
      ],
      "text/plain": [
       "   Unnamed: 0  season  month  holiday  day_of_week  workingday  weather  temp  \\\n",
       "0           0     2.0    5.0      0.0          2.0         1.0      2.0  24.0   \n",
       "1           1     4.0   12.0      0.0          2.0         1.0      1.0  15.0   \n",
       "2           2     2.0    6.0      0.0          4.0         1.0      1.0  26.0   \n",
       "3           3     4.0   12.0      0.0          0.0         0.0      1.0   0.0   \n",
       "4           4     3.0    9.0      0.0          3.0         1.0      3.0  23.0   \n",
       "\n",
       "   atemp  humidity  windspeed  rentals  \n",
       "0   26.0   76.5833   0.118167   6073.0  \n",
       "1   19.0   73.3750   0.174129   6606.0  \n",
       "2   28.0   56.9583   0.253733   7363.0  \n",
       "3    4.0   58.6250   0.169779   2431.0  \n",
       "4   23.0   91.7083   0.097021   1996.0  "
      ]
     },
     "execution_count": 21,
     "metadata": {},
     "output_type": "execute_result"
    }
   ],
   "source": [
    "# your code here\n",
    "train.head(5)"
   ]
  },
  {
   "cell_type": "markdown",
   "metadata": {},
   "source": [
    "your answers here"
   ]
  },
  {
   "cell_type": "code",
   "execution_count": 23,
   "metadata": {},
   "outputs": [
    {
     "name": "stdout",
     "output_type": "stream",
     "text": [
      "                            OLS Regression Results                            \n",
      "==============================================================================\n",
      "Dep. Variable:                      y   R-squared:                       0.497\n",
      "Model:                            OLS   Adj. R-squared:                  0.487\n",
      "Method:                 Least Squares   F-statistic:                     45.67\n",
      "Date:                Sun, 11 Aug 2019   Prob (F-statistic):           1.01e-44\n",
      "Time:                        11:45:59   Log-Likelihood:                -2860.3\n",
      "No. Observations:                 331   AIC:                             5737.\n",
      "Df Residuals:                     323   BIC:                             5767.\n",
      "Df Model:                           7                                         \n",
      "Covariance Type:            nonrobust                                         \n",
      "===============================================================================\n",
      "                  coef    std err          t      P>|t|      [0.025      0.975]\n",
      "-------------------------------------------------------------------------------\n",
      "const        4131.8854    526.253      7.852      0.000    3096.570    5167.201\n",
      "Unnamed: 0      0.2334      0.802      0.291      0.771      -1.343       1.810\n",
      "season        394.3279     75.887      5.196      0.000     245.033     543.622\n",
      "day_of_week    96.1273     37.340      2.574      0.010      22.668     169.587\n",
      "weather      -386.3551    197.459     -1.957      0.051    -774.824       2.114\n",
      "atemp         103.1425      8.453     12.202      0.000      86.513     119.772\n",
      "humidity      -28.6328      7.769     -3.686      0.000     -43.916     -13.349\n",
      "windspeed   -2728.0006   1057.194     -2.580      0.010   -4807.856    -648.145\n",
      "==============================================================================\n",
      "Omnibus:                       15.202   Durbin-Watson:                   1.948\n",
      "Prob(Omnibus):                  0.000   Jarque-Bera (JB):                6.862\n",
      "Skew:                           0.064   Prob(JB):                       0.0324\n",
      "Kurtosis:                       2.306   Cond. No.                     2.92e+03\n",
      "==============================================================================\n",
      "\n",
      "Warnings:\n",
      "[1] Standard Errors assume that the covariance matrix of the errors is correctly specified.\n",
      "[2] The condition number is large, 2.92e+03. This might indicate that there are\n",
      "strong multicollinearity or other numerical problems.\n"
     ]
    }
   ],
   "source": [
    "Xtrain, ytrain = train.drop(['rentals','holiday','workingday','temp','month'], axis =1), train['rentals'].values.reshape(-1,1)\n",
    "Xtest, ytest = test.drop(['rentals','holiday','temp', 'workingday', 'month'], axis =1), test['rentals'].values.reshape(-1, 1)\n",
    "\n",
    "\n",
    "#building a multiple linear regression we have to fit some constant and fit the model\n",
    "multiple_reg = sm.OLS(ytrain, sm.add_constant(Xtrain)).fit()\n",
    "\n",
    "ytest_pred = multiple_reg.predict(sm.add_constant(Xtest))\n",
    "ytrain_pred = multiple_reg.predict(sm.add_constant(Xtrain))\n",
    "print(multiple_reg.summary())"
   ]
  },
  {
   "cell_type": "code",
   "execution_count": null,
   "metadata": {},
   "outputs": [],
   "source": []
  }
 ],
 "metadata": {
  "anaconda-cloud": {},
  "kernelspec": {
   "display_name": "Python 3",
   "language": "python",
   "name": "python3"
  },
  "language_info": {
   "codemirror_mode": {
    "name": "ipython",
    "version": 3
   },
   "file_extension": ".py",
   "mimetype": "text/x-python",
   "name": "python",
   "nbconvert_exporter": "python",
   "pygments_lexer": "ipython3",
   "version": "3.7.1"
  }
 },
 "nbformat": 4,
 "nbformat_minor": 1
}
