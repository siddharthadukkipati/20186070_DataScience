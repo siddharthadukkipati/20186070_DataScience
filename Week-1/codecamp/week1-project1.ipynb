{
 "cells": [
  {
   "cell_type": "markdown",
   "metadata": {
    "colab_type": "text",
    "id": "mS4QNte13-oE"
   },
   "source": [
    "# CS 109A/STAT 121A/AC 209A/CSCI E-109A: Homework 1\n",
    "\n",
    "\n",
    "\n",
    "**Harvard University**<br/>\n",
    "**Fall 2017**<br/>\n",
    "**Instructors**: Pavlos Protopapas, Kevin Rader, Rahul Dave, Margo Levine\n",
    "\n",
    "---\n",
    "\n",
    "### INSTRUCTIONS\n",
    "\n",
    "**WARNING**: There is web page scraping in this homework. It takes about 40 minutes. **Do not wait till the last minute** to do this homework.\n",
    "\n",
    "- To submit your assignment follow the instructions given in canvas.\n",
    "- Restart the kernel and run the whole notebook again before you submit. There is an important CAVEAT to this. DO NOT run the web-page fetching cells again. (We have provided hints like `# DO NOT RERUN THIS CELL WHEN SUBMITTING` on some of the cells where we provide the code). Instead load your data structures from the JSON files we will ask you to save below. Otherwise you will be waiting for a long time. (Another reason to not wait until the last moment to submit.)\n",
    "\n",
    "- Do not include your name in the notebook.\n",
    "\n",
    "---"
   ]
  },
  {
   "cell_type": "markdown",
   "metadata": {
    "colab_type": "text",
    "id": "HijF3X4S3-oG"
   },
   "source": [
    "# Homework 1: Rihanna or Mariah?"
   ]
  },
  {
   "cell_type": "markdown",
   "metadata": {
    "colab_type": "text",
    "id": "nJDvwttt3-oI"
   },
   "source": [
    "Billboard Magazine puts out a top 100 list of \"singles\" every week. Information from this list, as well as that from music sales, radio, and other sources is used to determine a top-100 \"singles\" of the year list. A **single** is typically one song, but sometimes can be two songs which are on one \"single\" record.\n",
    "\n",
    "In this homework you will: \n",
    "\n",
    "1. Scrape Wikipedia to obtain infprmation about the best singers and groups from each year (distinguishing between the two groups) as determined by the Billboard top 100 charts. You will have to clean this data. Along the way you will learn how to save data in json files to avoid repeated scraping. \n",
    "2. Scrape Wikipedia to obtain information on these singers. You will have to scrape the web pages, this time using a cache to guard against network timeouts (or your laptop going to sleep). You will again clean the data, and save it to a json file.\n",
    "3. Use pandas to represent these two datasets and merge them.\n",
    "4. Use the individual and merged datasets to visualize the performance of the artists and their songs. We have kept the amount of analysis limited here for reasons of time; but you might enjoy exploring music genres and other aspects of the music business you can find on these wikipedia pages at your own leisure."
   ]
  },
  {
   "cell_type": "markdown",
   "metadata": {
    "colab_type": "text",
    "id": "LHNCm97l3-oK"
   },
   "source": [
    "You should have worked through Lab0 and Lab 1, and Lecture 2.  Lab 2 will help as well."
   ]
  },
  {
   "cell_type": "markdown",
   "metadata": {
    "colab_type": "text",
    "id": "gNvvZ1E43-oM"
   },
   "source": [
    "As usual, first we import the necessary libraries.  In particular, we use [Seaborn](http://stanford.edu/~mwaskom/software/seaborn/) to give us a nicer default color palette, with our plots being of large (`poster`) size and with a white-grid background. "
   ]
  },
  {
   "cell_type": "code",
   "execution_count": 0,
   "metadata": {
    "colab": {},
    "colab_type": "code",
    "id": "h7SXQ_f03-oN",
    "scrolled": false
   },
   "outputs": [],
   "source": [
    "%matplotlib inline\n",
    "import numpy as np\n",
    "import scipy as sp\n",
    "import matplotlib as mpl\n",
    "import matplotlib.cm as cm\n",
    "import matplotlib.pyplot as plt\n",
    "import pandas as pd\n",
    "import time\n",
    "pd.set_option('display.width', 500)\n",
    "pd.set_option('display.max_columns', 100)\n",
    "pd.set_option('display.notebook_repr_html', True)\n",
    "import seaborn as sns\n",
    "sns.set_style(\"whitegrid\")\n",
    "sns.set_context(\"poster\")"
   ]
  },
  {
   "cell_type": "markdown",
   "metadata": {
    "colab_type": "text",
    "id": "HojLdqBD3-oS"
   },
   "source": [
    "## Q1. Scraping Wikipedia for Billboard Top 100."
   ]
  },
  {
   "cell_type": "markdown",
   "metadata": {
    "colab_type": "text",
    "id": "U84vikTV3-oT"
   },
   "source": [
    "In this question you will scrape Wikipedia for the Billboard's top 100 singles."
   ]
  },
  {
   "cell_type": "markdown",
   "metadata": {
    "colab_type": "text",
    "id": "RLP2Yljz3-oU"
   },
   "source": [
    "### Scraping Wikipedia for Billboard singles"
   ]
  },
  {
   "cell_type": "markdown",
   "metadata": {
    "colab_type": "text",
    "id": "gnVQy8Dl3-oW"
   },
   "source": [
    "We'll be using  [BeautifulSoup](http://www.crummy.com/software/BeautifulSoup/), and suggest that you use Python's built in `requests` library to fetch the web page."
   ]
  },
  {
   "cell_type": "markdown",
   "metadata": {
    "colab_type": "text",
    "id": "QoqpJEvu3-oX"
   },
   "source": [
    "#### 1.1 Parsing the Billboard Wikipedia page for 1970"
   ]
  },
  {
   "cell_type": "markdown",
   "metadata": {
    "colab_type": "text",
    "id": "qAtcv-tg3-oa"
   },
   "source": [
    "Obtain the web page at http://en.wikipedia.org/wiki/Billboard_Year-End_Hot_100_singles_of_1970 using a HTTP GET request. From this web page we'll extract the top 100 singles and their rankings. Create a list of dictionaries, 100 of them to be precise, with entries like \n",
    "\n",
    "`{'url': '/wiki/Sugarloaf_(band)', 'ranking': 30, 'band_singer': 'Sugarloaf', 'title': 'Green-Eyed Lady'}`. \n",
    "\n",
    "If you look at that web page, you'll see a link for every song, from which you can get the `url` of the singer or band. We will use these links later to scrape information about the singer or band. From the listing we can also get the band or singer name `band_singer`, and `title` of the song.\n",
    "\n",
    "*HINT: look for a table with class `wikitable`.*"
   ]
  },
  {
   "cell_type": "markdown",
   "metadata": {
    "colab_type": "text",
    "id": "dhMJauTc3-oc",
    "scrolled": true
   },
   "source": [
    "You should get something similar to this (where songs is the aforementioned list):\n",
    "\n",
    "```\n",
    "songs[2:4]\n",
    "```\n",
    "\n",
    "```\n",
    "[{'band_singer': 'The Guess Who',\n",
    "  'ranking': 3,\n",
    "  'title': '\"American Woman\"',\n",
    "  'url': '/wiki/The_Guess_Who'},\n",
    " {'band_singer': 'B.J. Thomas',\n",
    "  'ranking': 4,\n",
    "  'title': '\"Raindrops Keep Fallin\\' on My Head\"',\n",
    "  'url': '/wiki/B.J._Thomas'}]\n",
    "```"
   ]
  },
  {
   "cell_type": "code",
   "execution_count": 2,
   "metadata": {
    "colab": {
     "base_uri": "https://localhost:8080/",
     "height": 34
    },
    "colab_type": "code",
    "executionInfo": {
     "elapsed": 1731,
     "status": "ok",
     "timestamp": 1564373354406,
     "user": {
      "displayName": "sonam wangmo",
      "photoUrl": "https://lh6.googleusercontent.com/-IHLBVk_MU_I/AAAAAAAAAAI/AAAAAAAABVQ/x_frJyHhfSw/s64/photo.jpg",
      "userId": "17276512701836228726"
     },
     "user_tz": -330
    },
    "id": "ZPxrJnke6o8n",
    "outputId": "d662aab3-4dec-423c-d219-f16beda2505f"
   },
   "outputs": [
    {
     "data": {
      "text/plain": [
       "<Response [200]>"
      ]
     },
     "execution_count": 2,
     "metadata": {
      "tags": []
     },
     "output_type": "execute_result"
    }
   ],
   "source": [
    "from bs4 import BeautifulSoup\n",
    "import requests\n",
    "\n",
    "t1970=requests.get(\"http://en.wikipedia.org/wiki/Billboard_Year-End_Hot_100_singles_of_1970\")\n",
    "t1970"
   ]
  },
  {
   "cell_type": "code",
   "execution_count": 4,
   "metadata": {
    "colab": {
     "base_uri": "https://localhost:8080/",
     "height": 153
    },
    "colab_type": "code",
    "executionInfo": {
     "elapsed": 1076,
     "status": "ok",
     "timestamp": 1564373465502,
     "user": {
      "displayName": "sonam wangmo",
      "photoUrl": "https://lh6.googleusercontent.com/-IHLBVk_MU_I/AAAAAAAAAAI/AAAAAAAABVQ/x_frJyHhfSw/s64/photo.jpg",
      "userId": "17276512701836228726"
     },
     "user_tz": -330
    },
    "id": "qPirarV56yvM",
    "outputId": "3394c234-3185-478f-9619-0b251d179962"
   },
   "outputs": [
    {
     "data": {
      "text/plain": [
       "[{'band_singer': 'The Guess Who\\n',\n",
       "  'ranking': 3,\n",
       "  'title': '\"American Woman\"',\n",
       "  'url': '/wiki/The_Guess_Who'},\n",
       " {'band_singer': 'B.J. Thomas\\n',\n",
       "  'ranking': 4,\n",
       "  'title': '\"Raindrops Keep Fallin\\' on My Head\"',\n",
       "  'url': '/wiki/B.J._Thomas'}]"
      ]
     },
     "execution_count": 4,
     "metadata": {
      "tags": []
     },
     "output_type": "execute_result"
    }
   ],
   "source": [
    "soup = BeautifulSoup(t1970.text, \"html.parser\")\n",
    "rows = soup.find(\"table\", attrs={\"class\": \"wikitable\"}).find_all(\"tr\")[1:]\n",
    "def cleaner(r):\n",
    "    ranking = int(r[0].get_text())\n",
    "    title = r[1].get_text()\n",
    "    band_singer = r[2].get_text()\n",
    "    url = r[2].find(\"a\").get(\"href\")\n",
    "    return [ranking, title, band_singer, url]\n",
    "fields = [\"ranking\", \"title\", \"band_singer\", \"url\"]\n",
    "\n",
    "songs = [dict(zip(fields, cleaner(row.find_all(\"td\")))) for row in rows]\n",
    "\n",
    "songs[2:4]"
   ]
  },
  {
   "cell_type": "markdown",
   "metadata": {
    "colab_type": "text",
    "id": "AN7GeAG-3-of"
   },
   "source": [
    "#### 1.2 Generalize the previous: scrape Wikipedia from 1992 to 2014"
   ]
  },
  {
   "cell_type": "markdown",
   "metadata": {
    "colab_type": "text",
    "id": "2CmXMJ3Q3-oh"
   },
   "source": [
    "By visiting the urls similar to the ones for 1970, we can obtain the billboard top 100 for the years 1992 to 2014. (We choose these later years rather than 1970 as you might find music from this era more interesting.) Download these using Python's `requests` module and store the text from those requests in a dictionary called `yearstext`. This dictionary ought to have as its keys the years (as integers from 1992 to 2014), and as values corresponding to these keys the text of the page being fetched.\n",
    "\n",
    "You ought to sleep a second (look up `time.sleep` in Python) at the very least in-between fetching each web page: you do not want Wikipedia to think you are a marauding bot attempting to mount a denial-of-service attack."
   ]
  },
  {
   "cell_type": "markdown",
   "metadata": {
    "colab_type": "text",
    "id": "HDsJwg8y3-oj"
   },
   "source": [
    "*HINT: you might find `range` and string-interpolation useful to construct the URLs *.\n"
   ]
  },
  {
   "cell_type": "code",
   "execution_count": 5,
   "metadata": {
    "colab": {
     "base_uri": "https://localhost:8080/",
     "height": 425
    },
    "colab_type": "code",
    "executionInfo": {
     "elapsed": 33217,
     "status": "ok",
     "timestamp": 1564373538813,
     "user": {
      "displayName": "sonam wangmo",
      "photoUrl": "https://lh6.googleusercontent.com/-IHLBVk_MU_I/AAAAAAAAAAI/AAAAAAAABVQ/x_frJyHhfSw/s64/photo.jpg",
      "userId": "17276512701836228726"
     },
     "user_tz": -330
    },
    "id": "Pc-gbvcJ7UW7",
    "outputId": "6b8841a5-7c0d-4883-afee-8328d7087e85"
   },
   "outputs": [
    {
     "name": "stdout",
     "output_type": "stream",
     "text": [
      "range(1992, 2015)\n",
      "1992\n",
      "1993\n",
      "1994\n",
      "1995\n",
      "1996\n",
      "1997\n",
      "1998\n",
      "1999\n",
      "2000\n",
      "2001\n",
      "2002\n",
      "2003\n",
      "2004\n",
      "2005\n",
      "2006\n",
      "2007\n",
      "2008\n",
      "2009\n",
      "2010\n",
      "2011\n",
      "2012\n",
      "2013\n",
      "2014\n"
     ]
    }
   ],
   "source": [
    "years=range(1992, 2015)\n",
    "print(years)\n",
    "yearstext={}\n",
    "for y in years:\n",
    "    print(y)\n",
    "    yreq=requests.get(\"http://en.wikipedia.org/wiki/Billboard_Year-End_Hot_100_singles_of_%i\" % y)\n",
    "    yearstext[y]=yreq.text\n",
    "    time.sleep(1)"
   ]
  },
  {
   "cell_type": "markdown",
   "metadata": {
    "colab_type": "text",
    "id": "YBDtMSSZ3-ol"
   },
   "source": [
    "#### 1.3 Parse and Clean data "
   ]
  },
  {
   "cell_type": "markdown",
   "metadata": {
    "colab_type": "text",
    "id": "WafTjbtH3-oo"
   },
   "source": [
    "Remember the code you wrote to get data from 1970 which produces a list of dictionaries, one corresponding to each single.  Now write a function `parse_year(the_year, yeartext_dict)` which takes the year, prints it out, gets the text for the year from the just created `yearstext` dictionary, and return a list of dictionaries for that year, with one dictionary for each single. Store this list in the variable `yearinfo`.\n",
    "\n",
    "The dictionaries **must** be of this form:\n",
    "\n",
    "```\n",
    "{'band_singer': ['Brandy', 'Monica'],\n",
    "  'ranking': 2,\n",
    "  'song': ['The Boy Is Mine'],\n",
    "  'songurl': ['/wiki/The_Boy_Is_Mine_(song)'],\n",
    "  'titletext': '\" The Boy Is Mine \"',\n",
    "  'url': ['/wiki/Brandy_Norwood', '/wiki/Monica_(entertainer)']}\n",
    "```"
   ]
  },
  {
   "cell_type": "markdown",
   "metadata": {
    "colab_type": "text",
    "id": "J00yKLij3-oq"
   },
   "source": [
    "The spec of this function is provided below:"
   ]
  },
  {
   "cell_type": "code",
   "execution_count": 0,
   "metadata": {
    "colab": {},
    "colab_type": "code",
    "id": "u75VTktZ3-os"
   },
   "outputs": [],
   "source": [
    "\"\"\"\n",
    "Function\n",
    "--------\n",
    "parse_year\n",
    "\n",
    "Inputs\n",
    "------\n",
    "the_year: the year you want the singles for\n",
    "yeartext_dict: a dictionary with keys as integer years and values the downloaded web pages \n",
    "    from wikipedia for that year.\n",
    "   \n",
    "Returns\n",
    "-------\n",
    "\n",
    "a list of dictionaries, each of which corresponds to a single and has the\n",
    "following data:\n",
    "\n",
    "Eg:\n",
    "\n",
    "{'band_singer': ['Brandy', 'Monica'],\n",
    "  'ranking': 2,\n",
    "  'song': ['The Boy Is Mine'],\n",
    "  'songurl': ['/wiki/The_Boy_Is_Mine_(song)'],\n",
    "  'titletext': '\" The Boy Is Mine \"',\n",
    "  'url': ['/wiki/Brandy_Norwood', '/wiki/Monica_(entertainer)']}\n",
    "  \n",
    "A dictionary with the following data:\n",
    "    band_singer: a list of bands/singers who made this single\n",
    "    song: a list of the titles of songs on this single\n",
    "    songurl: a list of the same size as song which has urls for the songs on the single \n",
    "        (see point 3 above)\n",
    "    ranking: ranking of the single\n",
    "    titletext: the contents of the table cell\n",
    "    band_singer: a list of bands or singers on this single\n",
    "    url: a list of wikipedia singer/band urls on this single: only put in the part \n",
    "        of the url from /wiki onwards\n",
    "    \n",
    "\n",
    "Notes\n",
    "-----\n",
    "See description and example above.\n",
    "\"\"\""
   ]
  },
  {
   "cell_type": "markdown",
   "metadata": {
    "colab_type": "text",
    "id": "gL_9KwQA3-ov"
   },
   "source": [
    "#### Helpful notes\n",
    "\n",
    "Notice that some singles might have multiple songs:\n",
    "\n",
    "```\n",
    "{'band_singer': ['Jewel'],\n",
    "  'ranking': 2,\n",
    "  'song': ['Foolish Games', 'You Were Meant for Me'],\n",
    "  'songurl': ['/wiki/Foolish_Games',\n",
    "   '/wiki/You_Were_Meant_for_Me_(Jewel_song)'],\n",
    "  'titletext': '\" Foolish Games \" / \" You Were Meant for Me \"',\n",
    "  'url': ['/wiki/Jewel_(singer)']}\n",
    "```"
   ]
  },
  {
   "cell_type": "markdown",
   "metadata": {
    "colab_type": "text",
    "id": "_Z5dDAeI3-ov"
   },
   "source": [
    "And some singles don't have a song URL:\n",
    "\n",
    "```\n",
    "{'band_singer': [u'Nu Flavor'],\n",
    "  'ranking': 91,\n",
    "  'song': [u'Heaven'],\n",
    "  'songurl': [None],\n",
    "  'titletext': u'\"Heaven\"',\n",
    "  'url': [u'/wiki/Nu_Flavor']}\n",
    "```"
   ]
  },
  {
   "cell_type": "markdown",
   "metadata": {
    "colab_type": "text",
    "id": "kdZJrlhs3-ow"
   },
   "source": [
    "Thus there are some issues this function must handle:\n",
    "\n",
    "1. There can be more than one  `band_singer` as can be seen above (sometimes with a comma, sometimes with \"featuring\" in between). The best way to parse these is to look for the urls.\n",
    "2. There can be two songs in a single, because of the way the industry works: there are two-sided singles. See https://en.wikipedia.org/wiki/Billboard_Year-End_Hot_100_singles_of_1997 for an example. You can find other examples in 1998 and 1999.\n",
    "3. The `titletext` is the contents of the table cell, and retains the quotes that Wikipedia puts on the single.\n",
    "4. If no song anchor is found (see the 24th song in the above url), assume there is one song in the single, set `songurl` to [`None`] and the song name to the contents of the table cell with the quotes stripped (ie `song` is a one-element list with this the `titletext` stripped of its quotes)."
   ]
  },
  {
   "cell_type": "markdown",
   "metadata": {
    "colab_type": "text",
    "id": "pw5S7sUM3-oy"
   },
   "source": [
    "As a check, we can do this for 1997. We'll print the first 5 outputs: `parse_year(1997, yearstext)[:5]`"
   ]
  },
  {
   "cell_type": "markdown",
   "metadata": {
    "colab_type": "text",
    "id": "GWlYhybz3-oy"
   },
   "source": [
    "This should give the following. Notice that the year 1997 exercises the edge cases we talked about earlier."
   ]
  },
  {
   "cell_type": "markdown",
   "metadata": {
    "colab_type": "text",
    "id": "ZvQsgBQO3-oz"
   },
   "source": [
    "```\n",
    "[{'band_singer': ['Elton John'],\n",
    "  'ranking': 1,\n",
    "  'song': ['Something About the Way You Look Tonight',\n",
    "   'Candle in the Wind 1997'],\n",
    "  'songurl': ['/wiki/Something_About_the_Way_You_Look_Tonight',\n",
    "   '/wiki/Candle_in_the_Wind_1997'],\n",
    "  'titletext': '\" Something About the Way You Look Tonight \" / \" Candle in the Wind 1997 \"',\n",
    "  'url': ['/wiki/Elton_John']},\n",
    " {'band_singer': ['Jewel'],\n",
    "  'ranking': 2,\n",
    "  'song': ['Foolish Games', 'You Were Meant for Me'],\n",
    "  'songurl': ['/wiki/Foolish_Games',\n",
    "   '/wiki/You_Were_Meant_for_Me_(Jewel_song)'],\n",
    "  'titletext': '\" Foolish Games \" / \" You Were Meant for Me \"',\n",
    "  'url': ['/wiki/Jewel_(singer)']},\n",
    " {'band_singer': ['Puff Daddy', 'Faith Evans', '112'],\n",
    "  'ranking': 3,\n",
    "  'song': [\"I'll Be Missing You\"],\n",
    "  'songurl': ['/wiki/I%27ll_Be_Missing_You'],\n",
    "  'titletext': '\" I\\'ll Be Missing You \"',\n",
    "  'url': ['/wiki/Sean_Combs', '/wiki/Faith_Evans', '/wiki/112_(band)']},\n",
    " {'band_singer': ['Toni Braxton'],\n",
    "  'ranking': 4,\n",
    "  'song': ['Un-Break My Heart'],\n",
    "  'songurl': ['/wiki/Un-Break_My_Heart'],\n",
    "  'titletext': '\" Un-Break My Heart \"',\n",
    "  'url': ['/wiki/Toni_Braxton']},\n",
    " {'band_singer': ['Puff Daddy', 'Mase'],\n",
    "  'ranking': 5,\n",
    "  'song': [\"Can't Nobody Hold Me Down\"],\n",
    "  'songurl': ['/wiki/Can%27t_Nobody_Hold_Me_Down'],\n",
    "  'titletext': '\" Can\\'t Nobody Hold Me Down \"',\n",
    "  'url': ['/wiki/Sean_Combs', '/wiki/Mase']}]\n",
    "```"
   ]
  },
  {
   "cell_type": "code",
   "execution_count": 0,
   "metadata": {
    "colab": {},
    "colab_type": "code",
    "id": "StCiWRc-7lpT"
   },
   "outputs": [],
   "source": [
    "fields = [\"ranking\", \"song\", \"songurl\", \"titletext\", \"band_singer\", \"url\"]\n",
    "\n",
    "# Helper functions.\n",
    "def get_cols(row):\n",
    "    return row.find_all(\"th\") + row.find_all(\"td\")\n",
    "\n",
    "def break_a(col):\n",
    "    return list(map(list, zip(*[(a.get(\"title\").strip('\"'), a.get(\"href\")) for a in col.find_all(\"a\")]))) \\\n",
    "            or [[col.get_text().strip('\"')], [None]]\n",
    "    \n",
    "def parse_cols(cols):\n",
    "    return [int(cols[0].get_text())] + break_a(cols[1]) + [cols[1].get_text()] + break_a(cols[2])\n",
    "\n",
    "def create_dict(cols):\n",
    "    return dict(zip(fields, cols))\n",
    "\n",
    "# Parser function.\n",
    "def parse_year(year, yearstext):\n",
    "    soup = BeautifulSoup(yearstext[year], 'html.parser')\n",
    "    rows = soup.find(\"table\", attrs={\"class\": \"wikitable\"}).find_all(\"tr\")[1:]\n",
    "    return [create_dict(parse_cols(get_cols(row))) for row in rows]"
   ]
  },
  {
   "cell_type": "code",
   "execution_count": 7,
   "metadata": {
    "colab": {
     "base_uri": "https://localhost:8080/",
     "height": 598
    },
    "colab_type": "code",
    "executionInfo": {
     "elapsed": 1036,
     "status": "ok",
     "timestamp": 1564373610084,
     "user": {
      "displayName": "sonam wangmo",
      "photoUrl": "https://lh6.googleusercontent.com/-IHLBVk_MU_I/AAAAAAAAAAI/AAAAAAAABVQ/x_frJyHhfSw/s64/photo.jpg",
      "userId": "17276512701836228726"
     },
     "user_tz": -330
    },
    "id": "-Y0QKzDk7tuG",
    "outputId": "89865a5f-11a7-49cb-df72-105f93cfa264"
   },
   "outputs": [
    {
     "data": {
      "text/plain": [
       "[{'band_singer': ['Elton John'],\n",
       "  'ranking': 1,\n",
       "  'song': ['Something About the Way You Look Tonight',\n",
       "   'Candle in the Wind 1997'],\n",
       "  'songurl': ['/wiki/Something_About_the_Way_You_Look_Tonight',\n",
       "   '/wiki/Candle_in_the_Wind_1997'],\n",
       "  'titletext': '\"Something About the Way You Look Tonight\" / \"Candle in the Wind 1997\"',\n",
       "  'url': ['/wiki/Elton_John']},\n",
       " {'band_singer': ['Jewel (singer)'],\n",
       "  'ranking': 2,\n",
       "  'song': ['Foolish Games', 'You Were Meant for Me (Jewel song)'],\n",
       "  'songurl': ['/wiki/Foolish_Games',\n",
       "   '/wiki/You_Were_Meant_for_Me_(Jewel_song)'],\n",
       "  'titletext': '\"Foolish Games\" / \"You Were Meant for Me\"',\n",
       "  'url': ['/wiki/Jewel_(singer)']},\n",
       " {'band_singer': ['Sean Combs', 'Faith Evans', '112 (band)'],\n",
       "  'ranking': 3,\n",
       "  'song': [\"I'll Be Missing You\"],\n",
       "  'songurl': ['/wiki/I%27ll_Be_Missing_You'],\n",
       "  'titletext': '\"I\\'ll Be Missing You\"',\n",
       "  'url': ['/wiki/Sean_Combs', '/wiki/Faith_Evans', '/wiki/112_(band)']},\n",
       " {'band_singer': ['Toni Braxton'],\n",
       "  'ranking': 4,\n",
       "  'song': ['Un-Break My Heart'],\n",
       "  'songurl': ['/wiki/Un-Break_My_Heart'],\n",
       "  'titletext': '\"Un-Break My Heart\"',\n",
       "  'url': ['/wiki/Toni_Braxton']},\n",
       " {'band_singer': ['Sean Combs', 'Mase'],\n",
       "  'ranking': 5,\n",
       "  'song': [\"Can't Nobody Hold Me Down\"],\n",
       "  'songurl': ['/wiki/Can%27t_Nobody_Hold_Me_Down'],\n",
       "  'titletext': '\"Can\\'t Nobody Hold Me Down\"',\n",
       "  'url': ['/wiki/Sean_Combs', '/wiki/Mase']}]"
      ]
     },
     "execution_count": 7,
     "metadata": {
      "tags": []
     },
     "output_type": "execute_result"
    }
   ],
   "source": [
    "parse_year(1997, yearstext)[:5]"
   ]
  },
  {
   "cell_type": "code",
   "execution_count": 0,
   "metadata": {
    "colab": {},
    "colab_type": "code",
    "id": "SrqhJZqQ70Xs"
   },
   "outputs": [],
   "source": [
    "yearinfo = {y:parse_year(y, yearstext) for y in years}"
   ]
  },
  {
   "cell_type": "markdown",
   "metadata": {
    "colab_type": "text",
    "id": "XHmoXy8F3-o0"
   },
   "source": [
    "#### Save a json file of information from the scraped files"
   ]
  },
  {
   "cell_type": "markdown",
   "metadata": {
    "colab_type": "text",
    "id": "I5Cc3Cty3-o1"
   },
   "source": [
    "We do not want to lose all this work, so let's save the last data structure we created to disk. That way if you need to re-run from here, you don't need to redo all these requests and parsing. \n",
    "\n",
    "DO NOT RERUN THE HTTP REQUESTS TO WIKIPEDIA WHEN SUBMITTING.\n",
    "\n",
    "*We **DO NOT** need to see these JSON files in your submission!*"
   ]
  },
  {
   "cell_type": "code",
   "execution_count": 0,
   "metadata": {
    "colab": {},
    "colab_type": "code",
    "id": "HjF6RD2h3-o2"
   },
   "outputs": [],
   "source": [
    "import json"
   ]
  },
  {
   "cell_type": "code",
   "execution_count": 10,
   "metadata": {
    "colab": {
     "base_uri": "https://localhost:8080/",
     "height": 215
    },
    "colab_type": "code",
    "executionInfo": {
     "elapsed": 1526,
     "status": "error",
     "timestamp": 1564373672555,
     "user": {
      "displayName": "sonam wangmo",
      "photoUrl": "https://lh6.googleusercontent.com/-IHLBVk_MU_I/AAAAAAAAAAI/AAAAAAAABVQ/x_frJyHhfSw/s64/photo.jpg",
      "userId": "17276512701836228726"
     },
     "user_tz": -330
    },
    "id": "bVhOXl1F3-o5",
    "outputId": "2d5b4d85-c9bd-4877-c04a-2947bc156a4f",
    "scrolled": false
   },
   "outputs": [
    {
     "ename": "FileNotFoundError",
     "evalue": "ignored",
     "output_type": "error",
     "traceback": [
      "\u001b[0;31m---------------------------------------------------------------------------\u001b[0m",
      "\u001b[0;31mFileNotFoundError\u001b[0m                         Traceback (most recent call last)",
      "\u001b[0;32m<ipython-input-10-b6941a7c9103>\u001b[0m in \u001b[0;36m<module>\u001b[0;34m()\u001b[0m\n\u001b[0;32m----> 1\u001b[0;31m \u001b[0mfd\u001b[0m \u001b[0;34m=\u001b[0m \u001b[0mopen\u001b[0m\u001b[0;34m(\u001b[0m\u001b[0;34m\"data/yearinfo.json\"\u001b[0m\u001b[0;34m,\u001b[0m\u001b[0;34m\"w\"\u001b[0m\u001b[0;34m)\u001b[0m\u001b[0;34m\u001b[0m\u001b[0;34m\u001b[0m\u001b[0m\n\u001b[0m\u001b[1;32m      2\u001b[0m \u001b[0mjson\u001b[0m\u001b[0;34m.\u001b[0m\u001b[0mdump\u001b[0m\u001b[0;34m(\u001b[0m\u001b[0myearinfo\u001b[0m\u001b[0;34m,\u001b[0m \u001b[0mfd\u001b[0m\u001b[0;34m)\u001b[0m\u001b[0;34m\u001b[0m\u001b[0;34m\u001b[0m\u001b[0m\n\u001b[1;32m      3\u001b[0m \u001b[0mfd\u001b[0m\u001b[0;34m.\u001b[0m\u001b[0mclose\u001b[0m\u001b[0;34m(\u001b[0m\u001b[0;34m)\u001b[0m\u001b[0;34m\u001b[0m\u001b[0;34m\u001b[0m\u001b[0m\n\u001b[1;32m      4\u001b[0m \u001b[0;32mdel\u001b[0m \u001b[0myearinfo\u001b[0m\u001b[0;34m\u001b[0m\u001b[0;34m\u001b[0m\u001b[0m\n",
      "\u001b[0;31mFileNotFoundError\u001b[0m: [Errno 2] No such file or directory: 'data/yearinfo.json'"
     ]
    }
   ],
   "source": [
    "# DO NOT RERUN THIS CELL WHEN SUBMITTING\n",
    "fd = open(\"data/yearinfo.json\",\"w\")\n",
    "json.dump(yearinfo, fd)\n",
    "fd.close()\n",
    "del yearinfo"
   ]
  },
  {
   "cell_type": "markdown",
   "metadata": {
    "colab_type": "text",
    "id": "AIn8R1723-o8"
   },
   "source": [
    "Now let's reload our JSON file into the yearinfo variable, just to be sure everything is working."
   ]
  },
  {
   "cell_type": "code",
   "execution_count": 11,
   "metadata": {
    "colab": {
     "base_uri": "https://localhost:8080/",
     "height": 181
    },
    "colab_type": "code",
    "executionInfo": {
     "elapsed": 1408,
     "status": "error",
     "timestamp": 1564373821940,
     "user": {
      "displayName": "sonam wangmo",
      "photoUrl": "https://lh6.googleusercontent.com/-IHLBVk_MU_I/AAAAAAAAAAI/AAAAAAAABVQ/x_frJyHhfSw/s64/photo.jpg",
      "userId": "17276512701836228726"
     },
     "user_tz": -330
    },
    "id": "UAAx_FFq3-o9",
    "outputId": "b7c907b3-1f18-40fb-d868-ae96315be05a",
    "scrolled": true
   },
   "outputs": [
    {
     "ename": "FileNotFoundError",
     "evalue": "ignored",
     "output_type": "error",
     "traceback": [
      "\u001b[0;31m---------------------------------------------------------------------------\u001b[0m",
      "\u001b[0;31mFileNotFoundError\u001b[0m                         Traceback (most recent call last)",
      "\u001b[0;32m<ipython-input-11-ac585201da55>\u001b[0m in \u001b[0;36m<module>\u001b[0;34m()\u001b[0m\n\u001b[0;32m----> 1\u001b[0;31m \u001b[0;32mwith\u001b[0m \u001b[0mopen\u001b[0m\u001b[0;34m(\u001b[0m\u001b[0;34m\"data/yearinfo.json\"\u001b[0m\u001b[0;34m,\u001b[0m \u001b[0;34m\"r\"\u001b[0m\u001b[0;34m)\u001b[0m \u001b[0;32mas\u001b[0m \u001b[0mfd\u001b[0m\u001b[0;34m:\u001b[0m\u001b[0;34m\u001b[0m\u001b[0;34m\u001b[0m\u001b[0m\n\u001b[0m\u001b[1;32m      2\u001b[0m     \u001b[0myearinfo\u001b[0m \u001b[0;34m=\u001b[0m \u001b[0mjson\u001b[0m\u001b[0;34m.\u001b[0m\u001b[0mload\u001b[0m\u001b[0;34m(\u001b[0m\u001b[0mfd\u001b[0m\u001b[0;34m)\u001b[0m\u001b[0;34m\u001b[0m\u001b[0;34m\u001b[0m\u001b[0m\n",
      "\u001b[0;31mFileNotFoundError\u001b[0m: [Errno 2] No such file or directory: 'data/yearinfo.json'"
     ]
    }
   ],
   "source": [
    "# RERUN WHEN SUBMITTING\n",
    "# Another way to deal with files. Has the advantage of closing the file for you.\n",
    "with open(\"data/yearinfo.json\", \"r\") as fd:\n",
    "    yearinfo = json.load(fd)"
   ]
  },
  {
   "cell_type": "markdown",
   "metadata": {
    "colab_type": "text",
    "id": "snznn_kI3-o_"
   },
   "source": [
    "#### 1.4 Construct a year-song-singer dataframe from the yearly information"
   ]
  },
  {
   "cell_type": "markdown",
   "metadata": {
    "colab_type": "text",
    "id": "0EVCr_1B3-o_"
   },
   "source": [
    "Let's construct a dataframe `flatframe` from the `yearinfo`. The frame should be similar to the frame below.  Each row of the frame represents a song, and carries with it the chief properties of year, song, singer, and ranking.\n",
    "\n",
    "![](https://raw.githubusercontent.com/cs109/a-2017/master/hwassets/images/HW1SC1.png)"
   ]
  },
  {
   "cell_type": "markdown",
   "metadata": {
    "colab_type": "text",
    "id": "Wu3EO01d3-pA"
   },
   "source": [
    "To construct the dataframe, we'll need to iterate over the years and the singles per year. Notice how, above, the dataframe is ordered by ranking and then year. While the exact order is up to you, note that you will have to come up with a scheme to order the information.\n",
    "\n",
    "Check that the dataframe has sensible data types. You will also likely find that the year field has become an \"object\" (Pandas treats strings as generic objects): this is due to the conversion to and back from JSON. Such conversions need special care. Fix any data type issues with `flatframe`. (See Pandas [astype](http://pandas.pydata.org/pandas-docs/stable/generated/pandas.DataFrame.astype.html) function.) \n",
    "We will use this `flatframe` in the next question. \n",
    "\n",
    "(As an aside, we used the name `flatframe` to indicate that this dataframe is flattened from a hierarchical dictionary structure with the keys being the years.)"
   ]
  },
  {
   "cell_type": "code",
   "execution_count": 12,
   "metadata": {
    "colab": {
     "base_uri": "https://localhost:8080/",
     "height": 459
    },
    "colab_type": "code",
    "executionInfo": {
     "elapsed": 1794,
     "status": "ok",
     "timestamp": 1564373896382,
     "user": {
      "displayName": "sonam wangmo",
      "photoUrl": "https://lh6.googleusercontent.com/-IHLBVk_MU_I/AAAAAAAAAAI/AAAAAAAABVQ/x_frJyHhfSw/s64/photo.jpg",
      "userId": "17276512701836228726"
     },
     "user_tz": -330
    },
    "id": "_0ReMLtX8zc0",
    "outputId": "cb1b9a6d-6246-4b9b-bcfd-4539bb71a3e9"
   },
   "outputs": [
    {
     "name": "stderr",
     "output_type": "stream",
     "text": [
      "/usr/local/lib/python3.6/dist-packages/ipykernel_launcher.py:18: FutureWarning: \n",
      "Panel is deprecated and will be removed in a future version.\n",
      "The recommended way to represent these types of 3-dimensional data are with a MultiIndex on a DataFrame, via the Panel.to_frame() method\n",
      "Alternatively, you can use the xarray package http://xarray.pydata.org/en/stable/.\n",
      "Pandas provides a `.to_xarray()` method to help automate this conversion.\n",
      "\n"
     ]
    },
    {
     "data": {
      "text/html": [
       "<div>\n",
       "<style scoped>\n",
       "    .dataframe tbody tr th:only-of-type {\n",
       "        vertical-align: middle;\n",
       "    }\n",
       "\n",
       "    .dataframe tbody tr th {\n",
       "        vertical-align: top;\n",
       "    }\n",
       "\n",
       "    .dataframe thead th {\n",
       "        text-align: right;\n",
       "    }\n",
       "</style>\n",
       "<table border=\"1\" class=\"dataframe\">\n",
       "  <thead>\n",
       "    <tr style=\"text-align: right;\">\n",
       "      <th></th>\n",
       "      <th></th>\n",
       "      <th>band_singer</th>\n",
       "      <th>ranking</th>\n",
       "      <th>song</th>\n",
       "      <th>songurl</th>\n",
       "      <th>url</th>\n",
       "    </tr>\n",
       "    <tr>\n",
       "      <th>major</th>\n",
       "      <th>minor</th>\n",
       "      <th></th>\n",
       "      <th></th>\n",
       "      <th></th>\n",
       "      <th></th>\n",
       "      <th></th>\n",
       "    </tr>\n",
       "  </thead>\n",
       "  <tbody>\n",
       "    <tr>\n",
       "      <th rowspan=\"5\" valign=\"top\">0</th>\n",
       "      <th>1992</th>\n",
       "      <td>Boyz II Men</td>\n",
       "      <td>1.0</td>\n",
       "      <td>End of the Road</td>\n",
       "      <td>/wiki/End_of_the_Road</td>\n",
       "      <td>/wiki/Boyz_II_Men</td>\n",
       "    </tr>\n",
       "    <tr>\n",
       "      <th>1993</th>\n",
       "      <td>Whitney Houston</td>\n",
       "      <td>1.0</td>\n",
       "      <td>I Will Always Love You</td>\n",
       "      <td>/wiki/I_Will_Always_Love_You#Whitney_Houston_v...</td>\n",
       "      <td>/wiki/Whitney_Houston</td>\n",
       "    </tr>\n",
       "    <tr>\n",
       "      <th>1994</th>\n",
       "      <td>Ace of Base</td>\n",
       "      <td>1.0</td>\n",
       "      <td>The Sign (song)</td>\n",
       "      <td>/wiki/The_Sign_(song)</td>\n",
       "      <td>/wiki/Ace_of_Base</td>\n",
       "    </tr>\n",
       "    <tr>\n",
       "      <th>1995</th>\n",
       "      <td>Coolio</td>\n",
       "      <td>1.0</td>\n",
       "      <td>Gangsta's Paradise</td>\n",
       "      <td>/wiki/Gangsta%27s_Paradise</td>\n",
       "      <td>/wiki/Coolio</td>\n",
       "    </tr>\n",
       "    <tr>\n",
       "      <th>1996</th>\n",
       "      <td>Los del Río</td>\n",
       "      <td>1.0</td>\n",
       "      <td>Macarena (song)</td>\n",
       "      <td>/wiki/Macarena_(song)</td>\n",
       "      <td>/wiki/Los_del_R%C3%ADo</td>\n",
       "    </tr>\n",
       "  </tbody>\n",
       "</table>\n",
       "</div>"
      ],
      "text/plain": [
       "                 band_singer  ranking                    song                                            songurl                     url\n",
       "major minor                                                                                                                             \n",
       "0     1992       Boyz II Men      1.0         End of the Road                              /wiki/End_of_the_Road       /wiki/Boyz_II_Men\n",
       "      1993   Whitney Houston      1.0  I Will Always Love You  /wiki/I_Will_Always_Love_You#Whitney_Houston_v...   /wiki/Whitney_Houston\n",
       "      1994       Ace of Base      1.0         The Sign (song)                              /wiki/The_Sign_(song)       /wiki/Ace_of_Base\n",
       "      1995            Coolio      1.0      Gangsta's Paradise                         /wiki/Gangsta%27s_Paradise            /wiki/Coolio\n",
       "      1996       Los del Río      1.0         Macarena (song)                              /wiki/Macarena_(song)  /wiki/Los_del_R%C3%ADo"
      ]
     },
     "execution_count": 12,
     "metadata": {
      "tags": []
     },
     "output_type": "execute_result"
    }
   ],
   "source": [
    "yeardict={}\n",
    "for y in yearinfo.keys():\n",
    "    yearlist=yearinfo[y] # get list of singles for year\n",
    "    yearlist2=[]\n",
    "    for singledict in yearlist:\n",
    "        singers=singledict['band_singer']\n",
    "        for i, singer in enumerate(singers):\n",
    "            songs=singledict['song'] # generally one per single but maybe more\n",
    "            for j, song in enumerate(songs): # now inside each singer song combination\n",
    "                nd={}\n",
    "                nd['band_singer'] = singer\n",
    "                nd['url'] = singledict['url'][i]\n",
    "                nd['song'] = song\n",
    "                nd['songurl'] = singledict['songurl'][j]\n",
    "                nd['ranking'] = singledict['ranking']\n",
    "                yearlist2.append(nd)\n",
    "    yeardict[y]=pd.DataFrame(yearlist2) # one for each year\n",
    "yearspanel=pd.Panel.from_dict(yeardict, orient=\"minor\") # stack dataframes into a panel\n",
    "hierframe=yearspanel.to_frame() # flattening leads to a hierarchical index\n",
    "hierframe.head()"
   ]
  },
  {
   "cell_type": "code",
   "execution_count": 13,
   "metadata": {
    "colab": {
     "base_uri": "https://localhost:8080/",
     "height": 326
    },
    "colab_type": "code",
    "executionInfo": {
     "elapsed": 3645,
     "status": "ok",
     "timestamp": 1564373921473,
     "user": {
      "displayName": "sonam wangmo",
      "photoUrl": "https://lh6.googleusercontent.com/-IHLBVk_MU_I/AAAAAAAAAAI/AAAAAAAABVQ/x_frJyHhfSw/s64/photo.jpg",
      "userId": "17276512701836228726"
     },
     "user_tz": -330
    },
    "id": "TaVXoJ9P84mv",
    "outputId": "10bcb1f3-6699-4759-e60a-73f02755c7da"
   },
   "outputs": [
    {
     "data": {
      "text/html": [
       "<div>\n",
       "<style scoped>\n",
       "    .dataframe tbody tr th:only-of-type {\n",
       "        vertical-align: middle;\n",
       "    }\n",
       "\n",
       "    .dataframe tbody tr th {\n",
       "        vertical-align: top;\n",
       "    }\n",
       "\n",
       "    .dataframe thead th {\n",
       "        text-align: right;\n",
       "    }\n",
       "</style>\n",
       "<table border=\"1\" class=\"dataframe\">\n",
       "  <thead>\n",
       "    <tr style=\"text-align: right;\">\n",
       "      <th></th>\n",
       "      <th>major</th>\n",
       "      <th>minor</th>\n",
       "      <th>band_singer</th>\n",
       "      <th>ranking</th>\n",
       "      <th>song</th>\n",
       "      <th>songurl</th>\n",
       "      <th>url</th>\n",
       "    </tr>\n",
       "  </thead>\n",
       "  <tbody>\n",
       "    <tr>\n",
       "      <th>0</th>\n",
       "      <td>0</td>\n",
       "      <td>1992</td>\n",
       "      <td>Boyz II Men</td>\n",
       "      <td>1.0</td>\n",
       "      <td>End of the Road</td>\n",
       "      <td>/wiki/End_of_the_Road</td>\n",
       "      <td>/wiki/Boyz_II_Men</td>\n",
       "    </tr>\n",
       "    <tr>\n",
       "      <th>1</th>\n",
       "      <td>0</td>\n",
       "      <td>1993</td>\n",
       "      <td>Whitney Houston</td>\n",
       "      <td>1.0</td>\n",
       "      <td>I Will Always Love You</td>\n",
       "      <td>/wiki/I_Will_Always_Love_You#Whitney_Houston_v...</td>\n",
       "      <td>/wiki/Whitney_Houston</td>\n",
       "    </tr>\n",
       "    <tr>\n",
       "      <th>2</th>\n",
       "      <td>0</td>\n",
       "      <td>1994</td>\n",
       "      <td>Ace of Base</td>\n",
       "      <td>1.0</td>\n",
       "      <td>The Sign (song)</td>\n",
       "      <td>/wiki/The_Sign_(song)</td>\n",
       "      <td>/wiki/Ace_of_Base</td>\n",
       "    </tr>\n",
       "    <tr>\n",
       "      <th>3</th>\n",
       "      <td>0</td>\n",
       "      <td>1995</td>\n",
       "      <td>Coolio</td>\n",
       "      <td>1.0</td>\n",
       "      <td>Gangsta's Paradise</td>\n",
       "      <td>/wiki/Gangsta%27s_Paradise</td>\n",
       "      <td>/wiki/Coolio</td>\n",
       "    </tr>\n",
       "    <tr>\n",
       "      <th>4</th>\n",
       "      <td>0</td>\n",
       "      <td>1996</td>\n",
       "      <td>Los del Río</td>\n",
       "      <td>1.0</td>\n",
       "      <td>Macarena (song)</td>\n",
       "      <td>/wiki/Macarena_(song)</td>\n",
       "      <td>/wiki/Los_del_R%C3%ADo</td>\n",
       "    </tr>\n",
       "  </tbody>\n",
       "</table>\n",
       "</div>"
      ],
      "text/plain": [
       "   major  minor      band_singer  ranking                    song                                            songurl                     url\n",
       "0      0   1992      Boyz II Men      1.0         End of the Road                              /wiki/End_of_the_Road       /wiki/Boyz_II_Men\n",
       "1      0   1993  Whitney Houston      1.0  I Will Always Love You  /wiki/I_Will_Always_Love_You#Whitney_Houston_v...   /wiki/Whitney_Houston\n",
       "2      0   1994      Ace of Base      1.0         The Sign (song)                              /wiki/The_Sign_(song)       /wiki/Ace_of_Base\n",
       "3      0   1995           Coolio      1.0      Gangsta's Paradise                         /wiki/Gangsta%27s_Paradise            /wiki/Coolio\n",
       "4      0   1996      Los del Río      1.0         Macarena (song)                              /wiki/Macarena_(song)  /wiki/Los_del_R%C3%ADo"
      ]
     },
     "execution_count": 13,
     "metadata": {
      "tags": []
     },
     "output_type": "execute_result"
    }
   ],
   "source": [
    "flatframe = hierframe.reset_index()\n",
    "flatframe.head()"
   ]
  },
  {
   "cell_type": "code",
   "execution_count": 14,
   "metadata": {
    "colab": {
     "base_uri": "https://localhost:8080/",
     "height": 555
    },
    "colab_type": "code",
    "executionInfo": {
     "elapsed": 1247,
     "status": "ok",
     "timestamp": 1564373939082,
     "user": {
      "displayName": "sonam wangmo",
      "photoUrl": "https://lh6.googleusercontent.com/-IHLBVk_MU_I/AAAAAAAAAAI/AAAAAAAABVQ/x_frJyHhfSw/s64/photo.jpg",
      "userId": "17276512701836228726"
     },
     "user_tz": -330
    },
    "id": "IuPLNINt8-BA",
    "outputId": "6f7c81e0-7832-48a5-997a-1eafc51a9dd1"
   },
   "outputs": [
    {
     "data": {
      "text/html": [
       "<div>\n",
       "<style scoped>\n",
       "    .dataframe tbody tr th:only-of-type {\n",
       "        vertical-align: middle;\n",
       "    }\n",
       "\n",
       "    .dataframe tbody tr th {\n",
       "        vertical-align: top;\n",
       "    }\n",
       "\n",
       "    .dataframe thead th {\n",
       "        text-align: right;\n",
       "    }\n",
       "</style>\n",
       "<table border=\"1\" class=\"dataframe\">\n",
       "  <thead>\n",
       "    <tr style=\"text-align: right;\">\n",
       "      <th></th>\n",
       "      <th>year</th>\n",
       "      <th>band_singer</th>\n",
       "      <th>ranking</th>\n",
       "      <th>song</th>\n",
       "      <th>songurl</th>\n",
       "      <th>url</th>\n",
       "    </tr>\n",
       "  </thead>\n",
       "  <tbody>\n",
       "    <tr>\n",
       "      <th>0</th>\n",
       "      <td>1992</td>\n",
       "      <td>Boyz II Men</td>\n",
       "      <td>1.0</td>\n",
       "      <td>End of the Road</td>\n",
       "      <td>/wiki/End_of_the_Road</td>\n",
       "      <td>/wiki/Boyz_II_Men</td>\n",
       "    </tr>\n",
       "    <tr>\n",
       "      <th>1</th>\n",
       "      <td>1993</td>\n",
       "      <td>Whitney Houston</td>\n",
       "      <td>1.0</td>\n",
       "      <td>I Will Always Love You</td>\n",
       "      <td>/wiki/I_Will_Always_Love_You#Whitney_Houston_v...</td>\n",
       "      <td>/wiki/Whitney_Houston</td>\n",
       "    </tr>\n",
       "    <tr>\n",
       "      <th>2</th>\n",
       "      <td>1994</td>\n",
       "      <td>Ace of Base</td>\n",
       "      <td>1.0</td>\n",
       "      <td>The Sign (song)</td>\n",
       "      <td>/wiki/The_Sign_(song)</td>\n",
       "      <td>/wiki/Ace_of_Base</td>\n",
       "    </tr>\n",
       "    <tr>\n",
       "      <th>3</th>\n",
       "      <td>1995</td>\n",
       "      <td>Coolio</td>\n",
       "      <td>1.0</td>\n",
       "      <td>Gangsta's Paradise</td>\n",
       "      <td>/wiki/Gangsta%27s_Paradise</td>\n",
       "      <td>/wiki/Coolio</td>\n",
       "    </tr>\n",
       "    <tr>\n",
       "      <th>4</th>\n",
       "      <td>1996</td>\n",
       "      <td>Los del Río</td>\n",
       "      <td>1.0</td>\n",
       "      <td>Macarena (song)</td>\n",
       "      <td>/wiki/Macarena_(song)</td>\n",
       "      <td>/wiki/Los_del_R%C3%ADo</td>\n",
       "    </tr>\n",
       "    <tr>\n",
       "      <th>5</th>\n",
       "      <td>1997</td>\n",
       "      <td>Elton John</td>\n",
       "      <td>1.0</td>\n",
       "      <td>Something About the Way You Look Tonight</td>\n",
       "      <td>/wiki/Something_About_the_Way_You_Look_Tonight</td>\n",
       "      <td>/wiki/Elton_John</td>\n",
       "    </tr>\n",
       "    <tr>\n",
       "      <th>6</th>\n",
       "      <td>1998</td>\n",
       "      <td>Next (group)</td>\n",
       "      <td>1.0</td>\n",
       "      <td>Too Close (Next song)</td>\n",
       "      <td>/wiki/Too_Close_(Next_song)</td>\n",
       "      <td>/wiki/Next_(group)</td>\n",
       "    </tr>\n",
       "    <tr>\n",
       "      <th>7</th>\n",
       "      <td>1999</td>\n",
       "      <td>Cher</td>\n",
       "      <td>1.0</td>\n",
       "      <td>Believe (Cher song)</td>\n",
       "      <td>/wiki/Believe_(Cher_song)</td>\n",
       "      <td>/wiki/Cher</td>\n",
       "    </tr>\n",
       "  </tbody>\n",
       "</table>\n",
       "</div>"
      ],
      "text/plain": [
       "   year      band_singer  ranking                                      song                                            songurl                     url\n",
       "0  1992      Boyz II Men      1.0                           End of the Road                              /wiki/End_of_the_Road       /wiki/Boyz_II_Men\n",
       "1  1993  Whitney Houston      1.0                    I Will Always Love You  /wiki/I_Will_Always_Love_You#Whitney_Houston_v...   /wiki/Whitney_Houston\n",
       "2  1994      Ace of Base      1.0                           The Sign (song)                              /wiki/The_Sign_(song)       /wiki/Ace_of_Base\n",
       "3  1995           Coolio      1.0                        Gangsta's Paradise                         /wiki/Gangsta%27s_Paradise            /wiki/Coolio\n",
       "4  1996      Los del Río      1.0                           Macarena (song)                              /wiki/Macarena_(song)  /wiki/Los_del_R%C3%ADo\n",
       "5  1997       Elton John      1.0  Something About the Way You Look Tonight     /wiki/Something_About_the_Way_You_Look_Tonight        /wiki/Elton_John\n",
       "6  1998     Next (group)      1.0                     Too Close (Next song)                        /wiki/Too_Close_(Next_song)      /wiki/Next_(group)\n",
       "7  1999             Cher      1.0                       Believe (Cher song)                          /wiki/Believe_(Cher_song)              /wiki/Cher"
      ]
     },
     "execution_count": 14,
     "metadata": {
      "tags": []
     },
     "output_type": "execute_result"
    }
   ],
   "source": [
    "flatframe = flatframe.rename(columns={'minor':'year'})\n",
    "del flatframe['major']\n",
    "flatframe.head(8)"
   ]
  },
  {
   "cell_type": "code",
   "execution_count": 15,
   "metadata": {
    "colab": {
     "base_uri": "https://localhost:8080/",
     "height": 136
    },
    "colab_type": "code",
    "executionInfo": {
     "elapsed": 1106,
     "status": "ok",
     "timestamp": 1564373958127,
     "user": {
      "displayName": "sonam wangmo",
      "photoUrl": "https://lh6.googleusercontent.com/-IHLBVk_MU_I/AAAAAAAAAAI/AAAAAAAABVQ/x_frJyHhfSw/s64/photo.jpg",
      "userId": "17276512701836228726"
     },
     "user_tz": -330
    },
    "id": "iH71zqFs9Cks",
    "outputId": "42acd716-bcc2-46e9-ffbe-a37ac32b6b13"
   },
   "outputs": [
    {
     "data": {
      "text/plain": [
       "year             int64\n",
       "band_singer     object\n",
       "ranking        float64\n",
       "song            object\n",
       "songurl         object\n",
       "url             object\n",
       "dtype: object"
      ]
     },
     "execution_count": 15,
     "metadata": {
      "tags": []
     },
     "output_type": "execute_result"
    }
   ],
   "source": [
    "flatframe.dtypes"
   ]
  },
  {
   "cell_type": "code",
   "execution_count": 16,
   "metadata": {
    "colab": {
     "base_uri": "https://localhost:8080/",
     "height": 136
    },
    "colab_type": "code",
    "executionInfo": {
     "elapsed": 1707,
     "status": "ok",
     "timestamp": 1564373975991,
     "user": {
      "displayName": "sonam wangmo",
      "photoUrl": "https://lh6.googleusercontent.com/-IHLBVk_MU_I/AAAAAAAAAAI/AAAAAAAABVQ/x_frJyHhfSw/s64/photo.jpg",
      "userId": "17276512701836228726"
     },
     "user_tz": -330
    },
    "id": "Lme9v5kA9GcW",
    "outputId": "87d8c083-2342-4e76-98e1-061118e537cf"
   },
   "outputs": [
    {
     "data": {
      "text/plain": [
       "year             int64\n",
       "band_singer     object\n",
       "ranking        float64\n",
       "song            object\n",
       "songurl         object\n",
       "url             object\n",
       "dtype: object"
      ]
     },
     "execution_count": 16,
     "metadata": {
      "tags": []
     },
     "output_type": "execute_result"
    }
   ],
   "source": [
    "flatframe.year = flatframe.year.astype(int)\n",
    "flatframe.dtypes"
   ]
  },
  {
   "cell_type": "markdown",
   "metadata": {
    "colab_type": "text",
    "id": "ujeANgXs3-pA"
   },
   "source": [
    "### Who are the highest quality singers?"
   ]
  },
  {
   "cell_type": "markdown",
   "metadata": {
    "colab_type": "text",
    "id": "Y5MnmVrA3-pB"
   },
   "source": [
    "Here we show the highest quality singers and plot them on a bar chart.\n",
    "\n",
    "#### 1.5 Find highest quality singers according to how prolific they are\n",
    "\n",
    "What do we mean by highest quality? This is of course open to interpretation, but let's define \"highest quality\" here as the number of times a singer appears in the top 100 over this time period. If a singer appears twice in a year (for different songs), this is counted as two appearances, not one. \n",
    "\n",
    "Make a bar-plot of the most prolific singers. Singers on this chart should have appeared at-least more than 15 times. (HINT: look at the docs for the pandas method `value_counts`.)\n"
   ]
  },
  {
   "cell_type": "code",
   "execution_count": 17,
   "metadata": {
    "colab": {
     "base_uri": "https://localhost:8080/",
     "height": 316
    },
    "colab_type": "code",
    "executionInfo": {
     "elapsed": 1472,
     "status": "ok",
     "timestamp": 1564374021612,
     "user": {
      "displayName": "sonam wangmo",
      "photoUrl": "https://lh6.googleusercontent.com/-IHLBVk_MU_I/AAAAAAAAAAI/AAAAAAAABVQ/x_frJyHhfSw/s64/photo.jpg",
      "userId": "17276512701836228726"
     },
     "user_tz": -330
    },
    "id": "0p555DPA9P9V",
    "outputId": "b31b18da-701f-4cba-a7e2-ec550baaac7f"
   },
   "outputs": [
    {
     "data": {
      "image/png": "[encoded data removed]",
      "text/plain": [
       "<Figure size 432x288 with 1 Axes>"
      ]
     },
     "metadata": {
      "tags": []
     },
     "output_type": "display_data"
    }
   ],
   "source": [
    "prolific=flatframe.url.value_counts()\n",
    "prolific[prolific > 15].plot(kind=\"barh\");"
   ]
  },
  {
   "cell_type": "markdown",
   "metadata": {
    "colab_type": "text",
    "id": "_qaIqvxx3-pB"
   },
   "source": [
    "#### 1.6 What if we used a different metric?"
   ]
  },
  {
   "cell_type": "markdown",
   "metadata": {
    "colab_type": "text",
    "id": "7YIce5Nj3-pC"
   },
   "source": [
    "What we would like to capture is this: a singer should to be scored higher if the singer appears higher in the rankings. So we'd say that a singer who appeared once at a higher and once at a lower ranking is a \"higher quality\" singer than one who appeared twice at a lower ranking. \n",
    "\n",
    "To do this, group all of a singers songs together and assign each song a score `101 - ranking`. Order the singers by their total score and make a bar chart for the top 20.\n"
   ]
  },
  {
   "cell_type": "code",
   "execution_count": 18,
   "metadata": {
    "colab": {
     "base_uri": "https://localhost:8080/",
     "height": 296
    },
    "colab_type": "code",
    "executionInfo": {
     "elapsed": 2278,
     "status": "ok",
     "timestamp": 1564374065433,
     "user": {
      "displayName": "sonam wangmo",
      "photoUrl": "https://lh6.googleusercontent.com/-IHLBVk_MU_I/AAAAAAAAAAI/AAAAAAAABVQ/x_frJyHhfSw/s64/photo.jpg",
      "userId": "17276512701836228726"
     },
     "user_tz": -330
    },
    "id": "PR7V3zd-9cXN",
    "outputId": "7c7dd403-2429-428c-dd26-ed9c4bae25d7"
   },
   "outputs": [
    {
     "data": {
      "image/png": "[encoded data removed]",
      "text/plain": [
       "<Figure size 432x288 with 1 Axes>"
      ]
     },
     "metadata": {
      "tags": []
     },
     "output_type": "display_data"
    }
   ],
   "source": [
    "scores = flatframe.groupby('url').apply(lambda v: np.sum(101 - v['ranking']))\n",
    "scores= scores.sort_values(ascending=False)\n",
    "scores[:20].plot(kind=\"barh\");"
   ]
  },
  {
   "cell_type": "markdown",
   "metadata": {
    "colab_type": "text",
    "id": "MzFiB_zm3-pC"
   },
   "source": [
    "#### 1.7 Do you notice any major differences when you change the metric?\n",
    "\n",
    "How have the singers at the top shifted places? Why do you think this happens?"
   ]
  },
  {
   "cell_type": "markdown",
   "metadata": {
    "colab_type": "text",
    "id": "l9mYKnAS3-pC"
   },
   "source": [
    "## Q2. Scraping and Constructing: Information about Artists, Bands and Genres from Wikipedia"
   ]
  },
  {
   "cell_type": "markdown",
   "metadata": {
    "colab_type": "text",
    "id": "cPblaADf3-pD"
   },
   "source": [
    "Our next job is to use those band/singer urls we collected under `flatframe.url` and get information about singers and/or bands."
   ]
  },
  {
   "cell_type": "markdown",
   "metadata": {
    "colab_type": "text",
    "id": "eXSlOT2l3-pD"
   },
   "source": [
    "### Scrape information about artists from wikipedia"
   ]
  },
  {
   "cell_type": "markdown",
   "metadata": {
    "colab_type": "text",
    "id": "hto4B2N43-pE"
   },
   "source": [
    "We wish to fetch information about the singers or groups for all the winning songs in a list of years.\n",
    "\n",
    "Here we show a function that fetches information about a singer or group from their url on wikipedia. We create a cache object `urlcache` that will avoid redundant HTTP requests (e.g. an artist might have multiple singles on a single year, or be on the list over a span of years). Once we have fetched information about an artist, we don't need to do it again. The caching also helps if the network goes down, or the target website is having some problems. You simply need to run the `get_page` function below again, and the `urlcache` dictionary will continue to be filled.\n",
    "\n",
    "If the request gets an HTTP return code different from 200, (such as a 404 not found or 500 Internal Server Error) the cells for that URL will have a value of 1; and if the request completely fails (e.g. no network connection) the cell will have a value of 2. This will allow you to analyse the failed requests.\n",
    "\n",
    "Notice that we have wrapped the call in whats called _an exception block_. We try to make the request. If it fails entirely, or returns a HTTP code thats not 200, we set the status to 2 and 1 respectively."
   ]
  },
  {
   "cell_type": "code",
   "execution_count": 0,
   "metadata": {
    "colab": {},
    "colab_type": "code",
    "id": "U3o0BJlM3-pF",
    "scrolled": true
   },
   "outputs": [],
   "source": [
    "urlcache={}\n"
   ]
  },
  {
   "cell_type": "code",
   "execution_count": 0,
   "metadata": {
    "colab": {},
    "colab_type": "code",
    "id": "LYGixq2R3-pH",
    "scrolled": true
   },
   "outputs": [],
   "source": [
    "def get_page(url):\n",
    "    # Check if URL has already been visited.\n",
    "    if (url not in urlcache) or (urlcache[url]==1) or (urlcache[url]==2):\n",
    "        time.sleep(1)\n",
    "        # try/except blocks are used whenever the code could generate an exception (e.g. division by zero).\n",
    "        # In this case we don't know if the page really exists, or even if it does, if we'll be able to reach it.\n",
    "        try:\n",
    "            r = requests.get(\"http://en.wikipedia.org%s\" % url)\n",
    "\n",
    "            if r.status_code == 200:\n",
    "                urlcache[url] = r.text\n",
    "            else:\n",
    "                urlcache[url] = 1\n",
    "        except:\n",
    "            urlcache[url] = 2\n",
    "    return urlcache[url]\n"
   ]
  },
  {
   "cell_type": "markdown",
   "metadata": {
    "colab_type": "text",
    "id": "nId0TfGq3-pK"
   },
   "source": [
    "We sort the `flatframe` by year, ascending, first. Think why."
   ]
  },
  {
   "cell_type": "code",
   "execution_count": 21,
   "metadata": {
    "colab": {
     "base_uri": "https://localhost:8080/",
     "height": 377
    },
    "colab_type": "code",
    "executionInfo": {
     "elapsed": 1080,
     "status": "ok",
     "timestamp": 1564374120436,
     "user": {
      "displayName": "sonam wangmo",
      "photoUrl": "https://lh6.googleusercontent.com/-IHLBVk_MU_I/AAAAAAAAAAI/AAAAAAAABVQ/x_frJyHhfSw/s64/photo.jpg",
      "userId": "17276512701836228726"
     },
     "user_tz": -330
    },
    "id": "THrEOlJX3-pM",
    "outputId": "e12973f7-2f2e-49bf-bf4d-c38ba985712d",
    "scrolled": true
   },
   "outputs": [
    {
     "data": {
      "text/html": [
       "<div>\n",
       "<style scoped>\n",
       "    .dataframe tbody tr th:only-of-type {\n",
       "        vertical-align: middle;\n",
       "    }\n",
       "\n",
       "    .dataframe tbody tr th {\n",
       "        vertical-align: top;\n",
       "    }\n",
       "\n",
       "    .dataframe thead th {\n",
       "        text-align: right;\n",
       "    }\n",
       "</style>\n",
       "<table border=\"1\" class=\"dataframe\">\n",
       "  <thead>\n",
       "    <tr style=\"text-align: right;\">\n",
       "      <th></th>\n",
       "      <th>year</th>\n",
       "      <th>band_singer</th>\n",
       "      <th>ranking</th>\n",
       "      <th>song</th>\n",
       "      <th>songurl</th>\n",
       "      <th>url</th>\n",
       "    </tr>\n",
       "  </thead>\n",
       "  <tbody>\n",
       "    <tr>\n",
       "      <th>0</th>\n",
       "      <td>1992</td>\n",
       "      <td>Boyz II Men</td>\n",
       "      <td>1.0</td>\n",
       "      <td>End of the Road</td>\n",
       "      <td>/wiki/End_of_the_Road</td>\n",
       "      <td>/wiki/Boyz_II_Men</td>\n",
       "    </tr>\n",
       "    <tr>\n",
       "      <th>713</th>\n",
       "      <td>1992</td>\n",
       "      <td>En Vogue</td>\n",
       "      <td>29.0</td>\n",
       "      <td>Something He Can Feel</td>\n",
       "      <td>/wiki/Something_He_Can_Feel</td>\n",
       "      <td>/wiki/En_Vogue</td>\n",
       "    </tr>\n",
       "    <tr>\n",
       "      <th>736</th>\n",
       "      <td>1992</td>\n",
       "      <td>Joe Public (band)</td>\n",
       "      <td>30.0</td>\n",
       "      <td>Live and Learn (Joe Public song)</td>\n",
       "      <td>/wiki/Live_and_Learn_(Joe_Public_song)</td>\n",
       "      <td>/wiki/Joe_Public_(band)</td>\n",
       "    </tr>\n",
       "    <tr>\n",
       "      <th>759</th>\n",
       "      <td>1992</td>\n",
       "      <td>Jodeci</td>\n",
       "      <td>31.0</td>\n",
       "      <td>Come and Talk to Me</td>\n",
       "      <td>/wiki/Come_and_Talk_to_Me</td>\n",
       "      <td>/wiki/Jodeci</td>\n",
       "    </tr>\n",
       "    <tr>\n",
       "      <th>782</th>\n",
       "      <td>1992</td>\n",
       "      <td>Nirvana (band)</td>\n",
       "      <td>32.0</td>\n",
       "      <td>Smells Like Teen Spirit</td>\n",
       "      <td>/wiki/Smells_Like_Teen_Spirit</td>\n",
       "      <td>/wiki/Nirvana_(band)</td>\n",
       "    </tr>\n",
       "  </tbody>\n",
       "</table>\n",
       "</div>"
      ],
      "text/plain": [
       "     year        band_singer  ranking                              song                                 songurl                      url\n",
       "0    1992        Boyz II Men      1.0                   End of the Road                   /wiki/End_of_the_Road        /wiki/Boyz_II_Men\n",
       "713  1992           En Vogue     29.0             Something He Can Feel             /wiki/Something_He_Can_Feel           /wiki/En_Vogue\n",
       "736  1992  Joe Public (band)     30.0  Live and Learn (Joe Public song)  /wiki/Live_and_Learn_(Joe_Public_song)  /wiki/Joe_Public_(band)\n",
       "759  1992             Jodeci     31.0               Come and Talk to Me               /wiki/Come_and_Talk_to_Me             /wiki/Jodeci\n",
       "782  1992     Nirvana (band)     32.0           Smells Like Teen Spirit           /wiki/Smells_Like_Teen_Spirit     /wiki/Nirvana_(band)"
      ]
     },
     "execution_count": 21,
     "metadata": {
      "tags": []
     },
     "output_type": "execute_result"
    }
   ],
   "source": [
    "flatframe=flatframe.sort_values('year')\n",
    "flatframe.head()"
   ]
  },
  {
   "cell_type": "markdown",
   "metadata": {
    "colab_type": "text",
    "id": "eCR8sT6A3-pN"
   },
   "source": [
    "#### Pulling and saving the data"
   ]
  },
  {
   "cell_type": "code",
   "execution_count": 0,
   "metadata": {
    "colab": {},
    "colab_type": "code",
    "id": "dUBAlTS63-pO",
    "scrolled": true
   },
   "outputs": [],
   "source": [
    "# DO NOT RERUN THIS CELL WHEN SUBMITTING\n",
    "# Here we are populating the url cache\n",
    "# subsequent calls to this cell should be very fast, since Python won't\n",
    "# need to fetch the page from the web server.\n",
    "# NOTE this function will take quite some time to run (about 30 mins for me), since we sleep 1 second before\n",
    "# making a request. If you run it again it will be almost instantaneous, save requests that might have failed\n",
    "# (you will need to run it again if requests fail..see cell below for how to test this)\n",
    "flatframe[\"url\"].apply(get_page)"
   ]
  },
  {
   "cell_type": "markdown",
   "metadata": {
    "colab_type": "text",
    "id": "smr8EswG3-pP"
   },
   "source": [
    "You may have to run this function again and again, in case there were network problems. Note that, because there is a \"global\" cache, it will take less time each time you run it. Also note that this function is designed to be run again and again: it attempts to make sure that there are no unresolved pages remaining. Let us make sure of this: *the sum below should be 0, and the boolean True.*"
   ]
  },
  {
   "cell_type": "code",
   "execution_count": 0,
   "metadata": {
    "colab": {},
    "colab_type": "code",
    "id": "bPROTeKD3-pQ",
    "scrolled": true
   },
   "outputs": [],
   "source": [
    "# DO NOT RERUN THIS CELL WHEN SUBMITTING\n",
    "print(\"Number of bad requests:\",np.sum([(urlcache[k]==1) or (urlcache[k]==2) for k in urlcache])) # no one or 0's)\n",
    "print(\"Did we get all urls?\", len(flatframe.url.unique())==len(urlcache)) # we got all of the urls"
   ]
  },
  {
   "cell_type": "markdown",
   "metadata": {
    "colab_type": "text",
    "id": "yI9KNqHB3-pR"
   },
   "source": [
    "Let's save the `urlcache` to disk, just in case we need it again."
   ]
  },
  {
   "cell_type": "code",
   "execution_count": 0,
   "metadata": {
    "colab": {},
    "colab_type": "code",
    "id": "s9dF_5SJ3-pS"
   },
   "outputs": [],
   "source": [
    "# DO NOT RERUN THIS CELL WHEN SUBMITTING\n",
    "with open(\"data/artistinfo.json\",\"w\") as fd:\n",
    "    json.dump(urlcache, fd)\n",
    "del urlcache"
   ]
  },
  {
   "cell_type": "code",
   "execution_count": 0,
   "metadata": {
    "colab": {},
    "colab_type": "code",
    "id": "PX7aSbA13-pT",
    "scrolled": false
   },
   "outputs": [],
   "source": [
    "# RERUN WHEN SUBMITTING\n",
    "with open(\"data/artistinfo.json\") as json_file:\n",
    "    urlcache = json.load(json_file)"
   ]
  },
  {
   "cell_type": "markdown",
   "metadata": {
    "colab_type": "text",
    "id": "WwKJHgey3-pU"
   },
   "source": [
    "#### 2.1 Extract information about singers and bands"
   ]
  },
  {
   "cell_type": "markdown",
   "metadata": {
    "colab_type": "text",
    "id": "uuDxneZ43-pV"
   },
   "source": [
    "From each page we collected about a singer or a band, extract the following information:\n",
    "\n",
    "1. If the page has the text \"Born\" in the sidebar on the right, extract the element with the class `.bday`. If the page doesn't contain \"Born\", store `False`.  Store either of these into the variable `born`. We want to analyze the artist's age.\n",
    "\n",
    "2. If the text \"Years active\" is found, but no \"born\", assume a band. Store into the variable `ya` the value of the next table cell corresponding to this, or `False` if the text is not found.\n",
    "\n",
    "Put this all into a function `singer_band_info` which takes the singer/band url as argument and returns a dictionary `dict(url=url, born=born, ya=ya)`.\n",
    "\n",
    "The information can be found on the sidebar on each such wikipedia page, as the example here shows:\n",
    "\n",
    "![sandg](https://raw.githubusercontent.com/cs109/a-2017/master/hwassets/images/sandg.png).\n",
    "\n"
   ]
  },
  {
   "cell_type": "markdown",
   "metadata": {
    "colab_type": "text",
    "id": "mLjtNw8n3-pV"
   },
   "source": [
    "Write the function `singer_band_info` according to the following specification:"
   ]
  },
  {
   "cell_type": "code",
   "execution_count": 0,
   "metadata": {
    "colab": {},
    "colab_type": "code",
    "id": "fn2eMlYT3-pW"
   },
   "outputs": [],
   "source": [
    "\"\"\"\n",
    "Function\n",
    "--------\n",
    "singer_band_info\n",
    "\n",
    "Inputs\n",
    "------\n",
    "url: the url\n",
    "page_text: the text associated with the url\n",
    "   \n",
    "Returns\n",
    "-------\n",
    "A dictionary with the following data:\n",
    "    url: copy the input argument url into this value\n",
    "    born: the artist's birthday\n",
    "    ya: years active variable\n",
    "\n",
    "Notes\n",
    "-----\n",
    "See description above. Also note that some of the genres urls might require a \n",
    "bit of care and special handling.\n",
    "\"\"\""
   ]
  },
  {
   "cell_type": "code",
   "execution_count": 0,
   "metadata": {
    "colab": {},
    "colab_type": "code",
    "id": "XKfDF_J8AKIt"
   },
   "outputs": [],
   "source": [
    "dfb=largedf[largedf.born!=False][['year','born','ranking','url']]\n",
    "dfb['byear']=dfb.born.apply(lambda x: int(x.split('-')[0]))\n",
    "byurl=dfb.groupby('url')\n",
    "frames=[]\n",
    "for k, v in byurl:\n",
    "    minr=v.ranking.min()\n",
    "    frames.append(v[v.ranking==minr])\n",
    "topscoresdf=pd.concat(frames)\n",
    "(topscoresdf.year-topscoresdf.byear).hist(bins=np.arange(10,70,2), normed=True);"
   ]
  },
  {
   "cell_type": "markdown",
   "metadata": {
    "colab_type": "text",
    "id": "27T89uIz3-pX"
   },
   "source": [
    "#### 2.2  Merging this information in"
   ]
  },
  {
   "cell_type": "markdown",
   "metadata": {
    "colab_type": "text",
    "id": "5hvkrN3A3-pY"
   },
   "source": [
    "Iterate over the items in the singer-group dictionary cache `urlcache`, run the above function, and create a dataframe from there with columns `url`, `born`, and `ya`. Merge this dataframe on the `url` key with `flatframe`, creating a rather wide dataframe that we shall call `largedf`. It should look something like this:\n",
    "\n",
    "![](https://raw.githubusercontent.com/cs109/a-2017/master/hwassets/images/HW1SC3.png)\n",
    "\n",
    "Notice how the `born` and `ya` and `url` are repeated every time a different song from a given band is represented in a row."
   ]
  },
  {
   "cell_type": "markdown",
   "metadata": {
    "colab_type": "text",
    "id": "icYMTIh43-pY"
   },
   "source": [
    "#### 2.3 What is the age at which singers achieve their top ranking?"
   ]
  },
  {
   "cell_type": "markdown",
   "metadata": {
    "colab_type": "text",
    "id": "trrHI_PQ3-pZ"
   },
   "source": [
    "Plot a histogram of the age at which singers achieve their top ranking. What conclusions can you draw from this distribution of ages?\n",
    "\n",
    "*HINT: You will need to do some manipulation of the `born` column, and find the song for which a band or an artist achieves their top ranking. You will then need to put these rows together into another dataframe or array to make the plot.*"
   ]
  },
  {
   "cell_type": "markdown",
   "metadata": {
    "colab_type": "text",
    "id": "oX5DIQmz3-pZ"
   },
   "source": [
    "#### 2.4 At what year since inception do bands reach their top rankings?"
   ]
  },
  {
   "cell_type": "code",
   "execution_count": 0,
   "metadata": {
    "colab": {},
    "colab_type": "code",
    "id": "y5OfPyijAWY-"
   },
   "outputs": [],
   "source": [
    "dfg=largedf[largedf.born==False]\n",
    "dfg=dfg[dfg.ya!=False]#drop em!\n",
    "dfg['start']=dfg.ya.apply(lambda x: int(x[:4]))\n",
    "frames2=[]\n",
    "for k, v in dfg.groupby('url'):\n",
    "    minr=v.ranking.min()\n",
    "    frames2.append(v[v.ranking==minr])\n",
    "tsdfg=pd.concat(frames2)\n",
    "(tsdfg.year-tsdfg.start).hist(bins=20)"
   ]
  },
  {
   "cell_type": "markdown",
   "metadata": {
    "colab_type": "text",
    "id": "88dr70nS3-pZ"
   },
   "source": [
    "Make a similar calculation to plot a histogram of the years since inception at which bands reach their top ranking. What conclusions can you draw?"
   ]
  }
 ],
 "metadata": {
  "colab": {
   "name": "cs109a_hw1.ipynb",
   "provenance": [],
   "version": "0.3.2"
  },
  "kernelspec": {
   "display_name": "Python 3",
   "language": "python",
   "name": "python3"
  },
  "language_info": {
   "codemirror_mode": {
    "name": "ipython",
    "version": 3
   },
   "file_extension": ".py",
   "mimetype": "text/x-python",
   "name": "python",
   "nbconvert_exporter": "python",
   "pygments_lexer": "ipython3",
   "version": "3.7.1"
  }
 },
 "nbformat": 4,
 "nbformat_minor": 1
}
